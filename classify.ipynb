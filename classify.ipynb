{
 "cells": [
  {
   "cell_type": "code",
   "execution_count": 6,
   "metadata": {},
   "outputs": [],
   "source": [
    "\n",
    "import sys\n",
    "import os\n",
    "import pandas as pd\n",
    "import torch\n",
    "import torch.nn as nn\n",
    "import numpy as np\n",
    "import random\n",
    "import matplotlib.pyplot as plt\n",
    "from numpy import pi, matmul,sqrt,dot,array,zeros,cos,sin,pi,arccos\n",
    "from torch.utils.data import DataLoader\n",
    "from func import OR,heatplot,misorientation,ipfread,negsample\n",
    "from Class import Data,Cluster,Dataset,CNN50a,CNN50b,CNN49a,CNN49b\n",
    "import torch.nn.functional as F\n",
    "import matplotlib.patches as patches\n",
    "def properties(header=['ND面硬度(Hv)', 'TD面硬度(Hv)', 'UTS strain(%)', 'UTS stress(MPa)','Total Elongation(%)', 'E(GPa)', 'Ys(Mpa)']):\n",
    "    df=pd.read_excel(\"data/properties.xlsx\",sheet_name=\"summary\")\n",
    "    names=df[\"Title\"].values\n",
    "    data=df[header].values\n",
    "    dic=dict()\n",
    "    for i in range(data.shape[1]):\n",
    "        data[:,i]=(data[:,i]-np.mean(data[:,i]))/np.std(data[:,i])\n",
    "    for i,name in enumerate(names):\n",
    "        dic[str(name)]=data[i,:].tolist()\n",
    "    return dic\n"
   ]
  },
  {
   "cell_type": "code",
   "execution_count": 3,
   "metadata": {},
   "outputs": [
    {
     "data": {
      "text/plain": [
       "-1.0"
      ]
     },
     "execution_count": 3,
     "metadata": {},
     "output_type": "execute_result"
    }
   ],
   "source": [
    "def Quaternion(angle):\n",
    "    a,b,c=angle\n",
    "    a=a/180*pi\n",
    "    b=b/180*pi\n",
    "    c=c/180*pi\n",
    "    # a-> 1st(z); b->second(x'); c->third(z'')\n",
    "    [cos(a/2)*cos(b/2)*cos(c/2)-sin(a/2)*cos(b/2)*sin(c/2),sin(a/2)*sin(b/2)*sin()\n",
    "    return "
   ]
  },
  {
   "cell_type": "code",
   "execution_count": 7,
   "metadata": {},
   "outputs": [
    {
     "name": "stdout",
     "output_type": "stream",
     "text": [
      "data/780/train/20200916/before/\n",
      "data/780/train/20200923/before/\n",
      "data/780/train/20201019/before/\n",
      "data/980/train/20210225/before/\n",
      "data/980/train/20210304/before/\n",
      "data/780/val/20200907/before/\n",
      "data/980/val/20210302/before/\n"
     ]
    }
   ],
   "source": [
    "feature=[\"Error\",\"BS\"]\n",
    "pic_size=500\n",
    "sam_size=49\n",
    "prop_dic=properties()\n",
    "def create_dataset(subset=\"train\",steels=[\"780\",\"980\"],feature=[\"Orient\",\"MAD\"],prop_dic=prop_dic,pic_size=500,sam_size=50):\n",
    "    bef=[]\n",
    "    target=[]\n",
    "    source=[]\n",
    "    props=[]\n",
    "    h=w=sam_size\n",
    "    for steel in steels:\n",
    "        corner=torch.load(\"data/%s_corner.pkl\"%(steel))\n",
    "        root=\"data/%s/%s/\"%(steel,subset)\n",
    "        for date in sorted(os.listdir(root)):\n",
    "            path=\"%s%s/before/\"%(root,date)\n",
    "            print(path)\n",
    "            data=Data(path)\n",
    "            data.data[\"Orient\"]=data.data[\"Orient\"].reshape(data.h,data.w,-1)\n",
    "            for (i,j) in corner[date]:\n",
    "                app=[]\n",
    "                for ele in feature:\n",
    "                    if ele==\"Orient\":\n",
    "                        app.append(data.data[ele][i:i+h,j:j+w])\n",
    "                    else:   \n",
    "                        app.append(data.data[ele][i:i+h,j:j+w,np.newaxis])\n",
    "                bef.append(np.concatenate(app,axis=2))\n",
    "                props.append(prop_dic[steel])\n",
    "                source.append([path,(i,j)])\n",
    "                target.append(0)\n",
    "            for (i,j) in negsample(corner[date],pic_size,sam_size):\n",
    "                app=[]\n",
    "                for ele in feature:\n",
    "                    if ele==\"Orient\":\n",
    "                        app.append(data.data[ele][i:i+h,j:j+w])\n",
    "                    else:\n",
    "                        app.append(data.data[ele][i:i+h,j:j+w,np.newaxis])\n",
    "                source.append([date,(i,j)])\n",
    "                bef.append(np.concatenate(app,axis=2))\n",
    "                props.append(prop_dic[steel])\n",
    "                target.append(1)\n",
    "    bef=np.transpose(np.array(bef),(0,3,1,2))\n",
    "    props=np.array(props)\n",
    "    target=np.array(target)\n",
    "    return Dataset(bef,props,target,source)\n",
    "train=create_dataset(\"train\",feature=feature,pic_size=pic_size,sam_size=sam_size)\n",
    "val=create_dataset(\"val\",feature=feature,pic_size=pic_size,sam_size=sam_size)"
   ]
  },
  {
   "cell_type": "code",
   "execution_count": 36,
   "metadata": {
    "scrolled": true
   },
   "outputs": [],
   "source": [
    "class CNN49ag(nn.Module):\n",
    "    def __init__(self,in_channel,comp):\n",
    "        super(CNN49ag, self).__init__()\n",
    "        self.batchnorm = nn.BatchNorm2d(in_channel)\n",
    "        self.relu = nn.ReLU() # activation\n",
    "        self.maxpool = nn.MaxPool2d(kernel_size=2) \n",
    "        self.cnn1 = nn.Conv2d(in_channels=in_channel, out_channels=12, kernel_size=2, stride=1, padding=0) \n",
    "        self.cnn2 = nn.Conv2d(in_channels=12, out_channels=18, kernel_size=3, stride=1, padding=0) \n",
    "        self.cnn3 = nn.Conv2d(in_channels=18, out_channels=24, kernel_size=3, stride=1, padding=0) \n",
    "        self.fc1 = nn.Linear(24 * 9 * 9+comp, 2) \n",
    "        self.softmax = nn.Softmax(1)\n",
    "    def forward(self, x,p):\n",
    "        # Convolution 1 49\n",
    "        out = self.batchnorm(x)\n",
    "        out = self.cnn1(x) # 48\n",
    "        out = self.relu(out)\n",
    "        out = self.maxpool(out) #24\n",
    "        out = self.cnn2(out) #22\n",
    "        out = self.relu(out) \n",
    "        out = self.maxpool(out) #11\n",
    "        out = self.cnn3(out) #9\n",
    "        out = self.relu(out)\n",
    "        out = out.view(out.size(0), -1)\n",
    "        out = torch.cat([out,p],1)\n",
    "        # Linear function (readout)\n",
    "        out = self.fc1(out)\n",
    "        out = self.softmax(out)\n",
    "        return out"
   ]
  },
  {
   "cell_type": "code",
   "execution_count": 37,
   "metadata": {},
   "outputs": [],
   "source": [
    "comp=len(train[0][1])\n",
    "in_channel=train[0][0].shape[0]\n",
    "model=CNN49ag(in_channel,comp)"
   ]
  },
  {
   "cell_type": "code",
   "execution_count": 38,
   "metadata": {},
   "outputs": [],
   "source": [
    "train_loader= DataLoader(train, batch_size=64, shuffle=True,  num_workers=0, drop_last=True )\n",
    "val_loader= DataLoader(val, batch_size=64, shuffle=True,  num_workers=0,  drop_last=False )\n"
   ]
  },
  {
   "cell_type": "code",
   "execution_count": 40,
   "metadata": {},
   "outputs": [
    {
     "name": "stdout",
     "output_type": "stream",
     "text": [
      "0 1.9317407608032227\n",
      "acc=  103 / 164\n",
      "2 1.9088889360427856\n",
      "acc=  106 / 164\n",
      "8 1.9466159343719482\n",
      "acc=  108 / 164\n",
      "43 1.9444442987442017\n",
      "acc=  109 / 164\n",
      "67 1.8517893552780151\n",
      "acc=  110 / 164\n"
     ]
    }
   ],
   "source": [
    "Loss = nn.CrossEntropyLoss()\n",
    "optimizer = torch.optim.Adam(model.parameters(), lr=1e-4)\n",
    "max_acc = 0.1\n",
    "epoch = 200\n",
    "for ep in range(epoch):\n",
    "    for batch_ndx, sample in enumerate(train_loader):\n",
    "        optimizer.zero_grad()\n",
    "        X,P,Y,_= sample\n",
    "        output=model(X,P)\n",
    "        loss = Loss(output,Y)\n",
    "        loss.backward()\n",
    "        optimizer.step()\n",
    "#         print(\"train \",ep,loss.item())\n",
    "    model.eval()\n",
    "    cum=0\n",
    "    loss=0\n",
    "    for batch_ndx, sample in enumerate(val_loader):\n",
    "        X,P,Y,_= sample\n",
    "        output=model(X,P)\n",
    "        loss+=Loss(output,Y)\n",
    "        predict = torch.max(output, 1)[1]\n",
    "        cum+=np.sum((Y == predict).cpu().numpy())\n",
    "    acc=cum/len(val)\n",
    "    if acc>max_acc:\n",
    "        max_acc=acc\n",
    "        min_loss = loss.item()\n",
    "        print(ep,min_loss)\n",
    "        print(\"acc= \",cum,\"/\",len(val))\n",
    "#         torch.save(model,\"model/%.3f_%s_%s.pkl\"%(acc,type(model).__name__,\"_\".join(feature)))"
   ]
  },
  {
   "cell_type": "code",
   "execution_count": 44,
   "metadata": {},
   "outputs": [
    {
     "data": {
      "text/plain": [
       "214"
      ]
     },
     "execution_count": 44,
     "metadata": {},
     "output_type": "execute_result"
    }
   ],
   "source": [
    "len(train)"
   ]
  },
  {
   "cell_type": "code",
   "execution_count": 45,
   "metadata": {},
   "outputs": [
    {
     "data": {
      "text/plain": [
       "136"
      ]
     },
     "execution_count": 45,
     "metadata": {},
     "output_type": "execute_result"
    }
   ],
   "source": [
    "len(val)"
   ]
  },
  {
   "cell_type": "code",
   "execution_count": null,
   "metadata": {},
   "outputs": [],
   "source": []
  }
 ],
 "metadata": {
  "kernelspec": {
   "display_name": "Python 3",
   "language": "python",
   "name": "python3"
  },
  "language_info": {
   "codemirror_mode": {
    "name": "ipython",
    "version": 3
   },
   "file_extension": ".py",
   "mimetype": "text/x-python",
   "name": "python",
   "nbconvert_exporter": "python",
   "pygments_lexer": "ipython3",
   "version": "3.7.4"
  }
 },
 "nbformat": 4,
 "nbformat_minor": 2
}
