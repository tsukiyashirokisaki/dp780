{
 "cells": [
  {
   "cell_type": "code",
   "execution_count": 4,
   "metadata": {},
   "outputs": [],
   "source": [
    "\n",
    "import sys\n",
    "import os\n",
    "import pandas as pd\n",
    "import torch\n",
    "import torch.nn as nn\n",
    "import numpy as np\n",
    "import random\n",
    "import matplotlib.pyplot as plt\n",
    "from numpy import pi, matmul,sqrt,dot,array,zeros,cos,sin,pi,arccos\n",
    "from torch.utils.data import DataLoader\n",
    "from func import OR,heatplot,misorientation,ipfread,negsample\n",
    "from Class import Data,Cluster,Dataset,CNN50a,CNN50b,CNN49a,CNN49b\n",
    "import torch.nn.functional as F\n",
    "import matplotlib.patches as patches\n"
   ]
  },
  {
   "cell_type": "code",
   "execution_count": 11,
   "metadata": {},
   "outputs": [],
   "source": [
    "feature=[\"Error\",\"BS\"]\n",
    "pic_size=500\n",
    "sam_size=49\n",
    "def create_dataset(root=\"data/train/\",feature=[\"Orient\",\"MAD\"],pic_size=500,sam_size=50):\n",
    "    corner=torch.load(\"data/780_corner.pkl\")\n",
    "    bef=[]\n",
    "    target=[]\n",
    "    source=[]\n",
    "    h=w=sam_size\n",
    "    for date in sorted(os.listdir(root)):\n",
    "        path=root+date+\"/before/\"\n",
    "        data=Data(path)\n",
    "        data.data[\"Orient\"]=data.data[\"Orient\"].reshape(data.h,data.w,-1)\n",
    "        for (i,j) in corner[date]:\n",
    "            app=[]\n",
    "            for ele in feature:\n",
    "                if ele==\"Orient\":\n",
    "                    app.append(data.data[ele][i:i+h,j:j+w])\n",
    "                else:   \n",
    "                    app.append(data.data[ele][i:i+h,j:j+w,np.newaxis])\n",
    "            bef.append(np.concatenate(app,axis=2))\n",
    "            source.append([date,(i,j)])\n",
    "            target.append(0)\n",
    "        for (i,j) in negsample(corner[date],pic_size,sam_size):\n",
    "            app=[]\n",
    "            for ele in feature:\n",
    "                if ele==\"Orient\":\n",
    "                    app.append(data.data[ele][i:i+h,j:j+w])\n",
    "                else:\n",
    "                    app.append(data.data[ele][i:i+h,j:j+w,np.newaxis])\n",
    "            source.append([date,(i,j)])\n",
    "            bef.append(np.concatenate(app,axis=2))\n",
    "            target.append(1)\n",
    "    bef=np.transpose(np.array(bef),(0,3,1,2))\n",
    "    target=np.array(target)\n",
    "    return Dataset(bef,target,source)\n",
    "train=create_dataset(\"data/train/\",feature=feature,pic_size=pic_size,sam_size=sam_size)\n",
    "test=create_dataset(\"data/test/\",feature=feature,pic_size=pic_size,sam_size=sam_size)"
   ]
  },
  {
   "cell_type": "code",
   "execution_count": 32,
   "metadata": {
    "scrolled": true
   },
   "outputs": [],
   "source": [
    "class CNN49a(nn.Module):\n",
    "    def __init__(self,in_channel,comp):\n",
    "        super(CNN49a, self).__init__()\n",
    "        self.batchnorm = nn.BatchNorm2d(in_channel)\n",
    "        self.relu = nn.ReLU() # activation\n",
    "        self.maxpool = nn.MaxPool2d(kernel_size=2) \n",
    "        self.cnn1 = nn.Conv2d(in_channels=in_channel, out_channels=12, kernel_size=2, stride=1, padding=0) \n",
    "        self.cnn2 = nn.Conv2d(in_channels=12, out_channels=18, kernel_size=3, stride=1, padding=0) \n",
    "        self.cnn3 = nn.Conv2d(in_channels=18, out_channels=24, kernel_size=3, stride=1, padding=0) \n",
    "        self.fc1 = nn.Linear(24 * 9 * 9+comp, 2) \n",
    "        self.softmax = nn.Softmax(1)\n",
    "    def forward(self, x,x2):\n",
    "        # Convolution 1 49\n",
    "        out = self.batchnorm(x)\n",
    "        out = self.cnn1(x) # 48\n",
    "        out = self.relu(out)\n",
    "        out = self.maxpool(out) #24\n",
    "        out = self.cnn2(out) #22\n",
    "        out = self.relu(out) \n",
    "        out = self.maxpool(out) #11\n",
    "        out = self.cnn3(out) #9\n",
    "        out = self.relu(out)\n",
    "        out = out.view(out.size(0), -1)\n",
    "        print(out.shape)\n",
    "        out = torch.cat([out,x2],1)\n",
    "        # Linear function (readout)\n",
    "        out = self.fc1(out)\n",
    "        out = self.softmax(out)\n",
    "        return out"
   ]
  },
  {
   "cell_type": "code",
   "execution_count": null,
   "metadata": {},
   "outputs": [],
   "source": []
  },
  {
   "cell_type": "code",
   "execution_count": null,
   "metadata": {},
   "outputs": [],
   "source": []
  },
  {
   "cell_type": "code",
   "execution_count": null,
   "metadata": {},
   "outputs": [],
   "source": []
  }
 ],
 "metadata": {
  "kernelspec": {
   "display_name": "Python 3",
   "language": "python",
   "name": "python3"
  },
  "language_info": {
   "codemirror_mode": {
    "name": "ipython",
    "version": 3
   },
   "file_extension": ".py",
   "mimetype": "text/x-python",
   "name": "python",
   "nbconvert_exporter": "python",
   "pygments_lexer": "ipython3",
   "version": "3.7.4"
  }
 },
 "nbformat": 4,
 "nbformat_minor": 2
}
