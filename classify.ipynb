{
 "cells": [
  {
   "cell_type": "code",
   "execution_count": 1,
   "metadata": {},
   "outputs": [],
   "source": [
    "import sys\n",
    "import os\n",
    "import cv2\n",
    "import pandas as pd\n",
    "import torch\n",
    "import torch.nn as nn\n",
    "import numpy as np\n",
    "import random\n",
    "import matplotlib.pyplot as plt\n",
    "from numpy import pi, matmul,sqrt,dot,array,zeros,cos,sin,pi,arccos\n",
    "from torch.utils.data import DataLoader\n",
    "from func import OR,heatplot,misorientation,mat2plot, match,imgshow,calpoint,L2,L1,ipfread\n",
    "from Class import Exp,Data,Cluster\n",
    "import torch.nn.functional as F\n",
    "import matplotlib.patches as patches\n",
    "\n",
    "class Dataset(torch.utils.data.Dataset):\n",
    "    def __init__(self,bef,im,target):\n",
    "        self.bef=bef\n",
    "        self.im=im\n",
    "        self.target=target\n",
    "    def __getitem__(self,index):\n",
    "        X=self.bef[index]\n",
    "        Y=self.target[index]\n",
    "        im=self.im[index]\n",
    "        return torch.tensor(X,dtype=torch.float32),torch.tensor(Y,dtype=torch.long),im\n",
    "    def __len__(self):\n",
    "        return len(self.bef)\n",
    "def negsample(corner):\n",
    "    mat=np.zeros([500,500])\n",
    "    for (i,j) in corner:\n",
    "        for k in range(max(0,i-49),min(500,i+50)):\n",
    "            for l in range(max(0,j-49),min(500,j+50)):\n",
    "                mat[k,l]=1\n",
    "    cand = []\n",
    "    for i in range(451):\n",
    "        for j in range(451):\n",
    "            if not mat[i][j]:\n",
    "                cand.append([i,j])\n",
    "    return random.sample(cand,len(corner))\n"
   ]
  },
  {
   "cell_type": "code",
   "execution_count": 2,
   "metadata": {},
   "outputs": [],
   "source": [
    "def create_dataset(root=\"data/train/\",feature=[\"orient\",\"MAD\"]):\n",
    "    corner=torch.load(\"data/corner.pkl\")\n",
    "    bef=[]\n",
    "    im=[]\n",
    "    target=[]\n",
    "    h=w=50\n",
    "    for date in os.listdir(root):\n",
    "        path=root+date+\"/before/\"\n",
    "        data=Data(path)\n",
    "        data.data[\"orient\"]=data.data[\"orient\"].reshape(data.h,data.w,-1)\n",
    "        for (i,j) in corner[date]:\n",
    "            im.append(ipfread(path)[i:i+h,j:j+w]/255.)\n",
    "            app=[]\n",
    "            for ele in feature:\n",
    "                if ele==\"orient\":\n",
    "                    app.append(data.data[ele][i:i+h,j:j+w])\n",
    "                else:\n",
    "                    app.append(data.data[ele][i:i+h,j:j+w,np.newaxis])\n",
    "            bef.append(np.concatenate(app,axis=2))\n",
    "            target.append(0)\n",
    "        for (i,j) in negsample(corner[date]):\n",
    "            im.append(ipfread(path)[i:i+h,j:j+w]/255.)\n",
    "            app=[]\n",
    "            for ele in feature:\n",
    "                if ele==\"orient\":\n",
    "                    app.append(data.data[ele][i:i+h,j:j+w])\n",
    "                else:\n",
    "                    app.append(data.data[ele][i:i+h,j:j+w,np.newaxis])\n",
    "            bef.append(np.concatenate(app,axis=2))\n",
    "            target.append(1)\n",
    "        \n",
    "    bef=np.transpose(np.array(bef),(0,3,1,2))\n",
    "    im=np.array(im)\n",
    "    target=np.array(target)\n",
    "    return Dataset(bef,im,target)\n",
    "train=create_dataset(\"data/train/\")\n",
    "test=create_dataset(\"data/test/\")"
   ]
  },
  {
   "cell_type": "code",
   "execution_count": 3,
   "metadata": {},
   "outputs": [],
   "source": [
    "class CNN(nn.Module):\n",
    "    def __init__(self):\n",
    "        super(CNN, self).__init__()\n",
    "        self.relu = nn.ReLU() # activation\n",
    "        self.maxpool = nn.MaxPool2d(kernel_size=2) #output_shape=(16,24,24)\n",
    "        self.cnn1 = nn.Conv2d(in_channels=10, out_channels=12, kernel_size=3, stride=1, padding=0) #output_shape=(16,48,48)\n",
    "        self.cnn2 = nn.Conv2d(in_channels=12, out_channels=18, kernel_size=3, stride=1, padding=1) #output_shape=(32,22,22\n",
    "        self.cnn3 = nn.Conv2d(in_channels=18, out_channels=24, kernel_size=3, stride=1, padding=0) #output_shape=(32,22,22\n",
    "        self.fc1 = nn.Linear(24 * 5 * 5, 2) \n",
    "        self.softmax = nn.Softmax(1)\n",
    "    def forward(self, x):\n",
    "        # Convolution 1 50\n",
    "        out = self.cnn1(x) # 48\n",
    "        out = self.relu(out)\n",
    "        out = self.maxpool(out) #24\n",
    "        out = self.cnn2(out) #24\n",
    "        out = self.relu(out) \n",
    "        out = self.maxpool(out) #12\n",
    "        out = self.cnn3(out) #10\n",
    "        out = self.relu(out)\n",
    "        out = self.maxpool(out) #5\n",
    "        out = out.view(out.size(0), -1)\n",
    "        # Linear function (readout)\n",
    "        out = self.fc1(out)\n",
    "        out = self.softmax(out)\n",
    "        return out"
   ]
  },
  {
   "cell_type": "code",
   "execution_count": 4,
   "metadata": {},
   "outputs": [],
   "source": [
    "train_loader= DataLoader(train, batch_size=64, shuffle=True,  num_workers=0, drop_last=True )\n",
    "test_loader= DataLoader(test, batch_size=64, shuffle=True,  num_workers=0,  drop_last=False )"
   ]
  },
  {
   "cell_type": "code",
   "execution_count": 5,
   "metadata": {
    "scrolled": true
   },
   "outputs": [
    {
     "name": "stdout",
     "output_type": "stream",
     "text": [
      "0 1.3870737552642822\n",
      "acc=  52 / 102\n",
      "1 1.3861339092254639\n",
      "acc=  54 / 102\n"
     ]
    },
    {
     "name": "stderr",
     "output_type": "stream",
     "text": [
      "/home/kisaki/anaconda3/lib/python3.7/site-packages/torch/serialization.py:256: UserWarning: Couldn't retrieve source code for container of type CNN. It won't be checked for correctness upon loading.\n",
      "  \"type \" + obj.__name__ + \". It won't be checked \"\n"
     ]
    },
    {
     "name": "stdout",
     "output_type": "stream",
     "text": [
      "7 1.3848265409469604\n",
      "acc=  55 / 102\n",
      "8 1.3854844570159912\n",
      "acc=  56 / 102\n",
      "50 1.355980634689331\n",
      "acc=  57 / 102\n",
      "55 1.356072187423706\n",
      "acc=  60 / 102\n",
      "56 1.3446459770202637\n",
      "acc=  61 / 102\n",
      "57 1.3443913459777832\n",
      "acc=  62 / 102\n",
      "64 1.3387969732284546\n",
      "acc=  63 / 102\n",
      "69 1.3158447742462158\n",
      "acc=  65 / 102\n",
      "72 1.3067831993103027\n",
      "acc=  66 / 102\n",
      "75 1.2942967414855957\n",
      "acc=  68 / 102\n",
      "77 1.2899656295776367\n",
      "acc=  69 / 102\n",
      "79 1.2795231342315674\n",
      "acc=  70 / 102\n",
      "88 1.262190818786621\n",
      "acc=  71 / 102\n",
      "96 1.228257417678833\n",
      "acc=  72 / 102\n",
      "100 1.2286694049835205\n",
      "acc=  75 / 102\n",
      "101 1.2344470024108887\n",
      "acc=  76 / 102\n",
      "112 1.2293109893798828\n",
      "acc=  78 / 102\n"
     ]
    }
   ],
   "source": [
    "model = CNN()\n",
    "Loss = nn.CrossEntropyLoss()\n",
    "optimizer = torch.optim.Adam(model.parameters(), lr=1e-4)\n",
    "max_acc = 0\n",
    "epoch = 1000\n",
    "for ep in range(epoch):\n",
    "    for batch_ndx, sample in enumerate(train_loader):\n",
    "        optimizer.zero_grad()\n",
    "        X,Y,_= sample\n",
    "        output=model(X)\n",
    "        loss = Loss(output,Y)\n",
    "        loss.backward()\n",
    "        optimizer.step()\n",
    "#         print(\"train \",ep,loss.item())\n",
    "    model.eval()\n",
    "    cum=0\n",
    "    loss=0\n",
    "    for batch_ndx, sample in enumerate(test_loader):\n",
    "        X,Y,_= sample\n",
    "        output=model(X)\n",
    "        loss+=Loss(output,Y)\n",
    "        predict = torch.max(output, 1)[1]\n",
    "        cum+=np.sum((Y == predict).cpu().numpy())\n",
    "    acc=cum/len(test)\n",
    "    if acc>max_acc:\n",
    "        max_acc=acc\n",
    "        min_loss = loss.item()\n",
    "        print(ep,min_loss)\n",
    "        print(\"acc= \",cum,\"/\",len(test))\n",
    "        torch.save(model,\"model/%.3f\"%(acc))\n",
    "        \n",
    "    "
   ]
  },
  {
   "cell_type": "code",
   "execution_count": null,
   "metadata": {},
   "outputs": [],
   "source": []
  },
  {
   "cell_type": "code",
   "execution_count": 56,
   "metadata": {},
   "outputs": [],
   "source": [
    "corner=torch.load(\"data/corner.pkl\")\n"
   ]
  },
  {
   "cell_type": "code",
   "execution_count": 7,
   "metadata": {},
   "outputs": [],
   "source": [
    "model = torch.load(\"model/0.765\")\n",
    "for param in model.parameters():\n",
    "    param.requires_grad = False"
   ]
  },
  {
   "cell_type": "code",
   "execution_count": 51,
   "metadata": {},
   "outputs": [
    {
     "name": "stdout",
     "output_type": "stream",
     "text": [
      "tensor(0)\n",
      "tensor([[0.6959, 0.3041]], grad_fn=<SoftmaxBackward>)\n"
     ]
    },
    {
     "data": {
      "image/png": "[encoded data removed]",
      "text/plain": [
       "<Figure size 432x288 with 1 Axes>"
      ]
     },
     "metadata": {
      "needs_background": "light"
     },
     "output_type": "display_data"
    }
   ],
   "source": [
    "index=1\n",
    "X=test[index][0].unsqueeze(0)\n",
    "print(test[index][1])\n",
    "\n",
    "# we would run the model in evaluation mode\n",
    "model.eval()\n",
    "\n",
    "# we need to find the gradient with respect to the input image, so we need to call requires_grad_ on it\n",
    "X.requires_grad_()\n",
    "\n",
    "'''\n",
    "forward pass through the model to get the scores, note that VGG-19 model doesn't perform softmax at the end\n",
    "and we also don't need softmax, we need scores, so that's perfect for us.\n",
    "'''\n",
    "\n",
    "scores = model(X)\n",
    "print(scores)\n",
    "# Get the index corresponding to the maximum score and the maximum score itself.\n",
    "score_max_index = scores.argmax()\n",
    "score_max = scores[0,score_max_index]\n",
    "\n",
    "'''\n",
    "backward function on score_max performs the backward pass in the computation graph and calculates the gradient of \n",
    "score_max with respect to nodes in the computation graph\n",
    "'''\n",
    "score_max.backward()\n",
    "\n",
    "'''\n",
    "Saliency would be the gradient with respect to the input image now. But note that the input image has 3 channels,\n",
    "R, G and B. To derive a single class saliency value for each pixel (i, j),  we take the maximum magnitude\n",
    "across all colour channels.\n",
    "'''\n",
    "saliency, _ = torch.max(X.grad.data.abs(),dim=1)\n",
    "\n",
    "# code to plot the saliency map as a heatmap\n",
    "plt.imshow(saliency[0], cmap=plt.cm.hot)\n",
    "plt.axis('off')\n",
    "plt.show()"
   ]
  },
  {
   "cell_type": "code",
   "execution_count": 53,
   "metadata": {},
   "outputs": [
    {
     "data": {
      "text/plain": [
       "True"
      ]
     },
     "execution_count": 53,
     "metadata": {},
     "output_type": "execute_result"
    }
   ],
   "source": [
    "cv2.imwrite(\"output/t1.png\",(255*test[index][2][:,:,6:]).astype(\"int\"))"
   ]
  },
  {
   "cell_type": "code",
   "execution_count": 58,
   "metadata": {},
   "outputs": [
    {
     "data": {
      "text/plain": [
       "<matplotlib.image.AxesImage at 0x7fa75a1ad490>"
      ]
     },
     "execution_count": 58,
     "metadata": {},
     "output_type": "execute_result"
    },
    {
     "data": {
      "image/png": "[encoded data removed]",
      "text/plain": [
       "<Figure size 432x288 with 1 Axes>"
      ]
     },
     "metadata": {
      "needs_background": "light"
     },
     "output_type": "display_data"
    }
   ],
   "source": [
    "plt.imshow((255*test[index][2][:,:,6:]).astype(\"int\"))"
   ]
  },
  {
   "cell_type": "code",
   "execution_count": null,
   "metadata": {},
   "outputs": [],
   "source": []
  }
 ],
 "metadata": {
  "kernelspec": {
   "display_name": "Python 3",
   "language": "python",
   "name": "python3"
  },
  "language_info": {
   "codemirror_mode": {
    "name": "ipython",
    "version": 3
   },
   "file_extension": ".py",
   "mimetype": "text/x-python",
   "name": "python",
   "nbconvert_exporter": "python",
   "pygments_lexer": "ipython3",
   "version": "3.7.4"
  }
 },
 "nbformat": 4,
 "nbformat_minor": 2
}
