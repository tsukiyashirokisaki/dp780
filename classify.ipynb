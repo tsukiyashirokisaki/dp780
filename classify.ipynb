{
 "cells": [
  {
   "cell_type": "code",
   "execution_count": 1,
   "metadata": {},
   "outputs": [],
   "source": [
    "import sys\n",
    "import os\n",
    "import pandas as pd\n",
    "import torch\n",
    "import torch.nn as nn\n",
    "import numpy as np\n",
    "import random\n",
    "import matplotlib.pyplot as plt\n",
    "from numpy import pi, matmul,sqrt,dot,array,zeros,cos,sin,pi,arccos\n",
    "from torch.utils.data import DataLoader\n",
    "from func import OR,heatplot,misorientation,ipfread,negsample,properties\n",
    "from func2 import create_dataset\n",
    "from Class import Data,Cluster,Dataset,CNN49ag,CNN49bg\n",
    "import torch.nn.functional as F\n",
    "import matplotlib.patches as patches\n"
   ]
  },
  {
   "cell_type": "code",
   "execution_count": 9,
   "metadata": {},
   "outputs": [],
   "source": [
    "header=['ND面硬度(Hv)', 'TD面硬度(Hv)', 'UTS strain(%)', 'UTS stress(MPa)','Total Elongation(%)', 'E(GPa)', 'Ys(Mpa)', 'C2', 'Si1', 'Mn3', 'P1','Cu5', 'Cr', 'Ti4', 'Al7', 'FE%']\n",
    "pic_size=500\n",
    "sam_size=49\n",
    "prop_dic = torch.load(\"data/properties.pkl\")\n",
    "train=create_dataset(\"train\",feature=feature,prop_dic=prop_dic,pic_size=pic_size,sam_size=sam_size)\n",
    "val=create_dataset(\"val\",feature=feature,prop_dic=prop_dic,pic_size=pic_size,sam_size=sam_size)\n",
    "\n"
   ]
  },
  {
   "cell_type": "code",
   "execution_count": 39,
   "metadata": {},
   "outputs": [
    {
     "name": "stdout",
     "output_type": "stream",
     "text": [
      "24 1.2039592266082764\n",
      "acc=  77 / 108\n",
      "30 1.1884856224060059\n",
      "acc=  78 / 108\n",
      "37 1.1676735877990723\n",
      "acc=  79 / 108\n",
      "39 1.1728630065917969\n",
      "acc=  80 / 108\n",
      "103 1.1506340503692627\n",
      "acc=  81 / 108\n"
     ]
    }
   ],
   "source": [
    "class CNN49ag(nn.Module):\n",
    "    def __init__(self,in_channel,comp):\n",
    "        super(CNN49ag, self).__init__()\n",
    "        self.batchnorm = nn.BatchNorm2d(in_channel)\n",
    "        self.relu = nn.ReLU() # activation\n",
    "        self.maxpool = nn.MaxPool2d(kernel_size=2) \n",
    "        self.cnn1 = nn.Conv2d(in_channels=in_channel, out_channels=12, kernel_size=2, stride=1, padding=0) \n",
    "        self.cnn2 = nn.Conv2d(in_channels=12, out_channels=18, kernel_size=3, stride=1, padding=0) \n",
    "        self.cnn3 = nn.Conv2d(in_channels=18, out_channels=24, kernel_size=3, stride=1, padding=0) \n",
    "        self.fc1 = nn.Linear(24 * 9 * 9+comp, 2) \n",
    "        self.softmax = nn.Softmax(1)\n",
    "    def forward(self, x,p):\n",
    "        # Convolution 1 49\n",
    "        out = self.batchnorm(x)\n",
    "        out = self.cnn1(x) # 48\n",
    "        out = self.relu(out)\n",
    "        out = self.maxpool(out) #24\n",
    "        out = self.cnn2(out) #22\n",
    "        out = self.relu(out) \n",
    "        out = self.maxpool(out) #11\n",
    "        out = self.cnn3(out) #9\n",
    "        out = self.relu(out)\n",
    "        out = out.view(out.size(0), -1)\n",
    "        if len(p)>1:\n",
    "            out = torch.cat([out,p],1)\n",
    "        out = self.fc1(out)\n",
    "        out = self.softmax(out)\n",
    "        return out\n",
    "comp=len(train[0][1])\n",
    "in_channel=train[0][0].shape[0]\n",
    "model=CNN49ag(in_channel,comp)\n",
    "train_loader= DataLoader(train, batch_size=64, shuffle=True,  num_workers=0, drop_last=True )\n",
    "val_loader= DataLoader(val, batch_size=64, shuffle=True,  num_workers=0,  drop_last=False )\n",
    "Loss = nn.CrossEntropyLoss()\n",
    "optimizer = torch.optim.Adam(model.parameters(), lr=1e-4)\n",
    "max_acc = 0.7\n",
    "epoch = 200\n",
    "for ep in range(epoch):\n",
    "    for batch_ndx, sample in enumerate(train_loader):\n",
    "        optimizer.zero_grad()\n",
    "        X,P,Y,_= sample\n",
    "        output=model(X,P)\n",
    "        loss = Loss(output,Y)\n",
    "        loss.backward()\n",
    "        optimizer.step()\n",
    "#         print(\"train \",ep,loss.item())\n",
    "    model.eval()\n",
    "    cum=0\n",
    "    loss=0\n",
    "    for batch_ndx, sample in enumerate(val_loader):\n",
    "        X,P,Y,_= sample\n",
    "        output=model(X,P)\n",
    "        loss+=Loss(output,Y)\n",
    "        predict = torch.max(output, 1)[1]\n",
    "        cum+=np.sum((Y == predict).cpu().numpy())\n",
    "    acc=cum/len(val)\n",
    "    if acc>max_acc:\n",
    "        max_acc=acc\n",
    "        min_loss = loss.item()\n",
    "        print(ep,min_loss)\n",
    "        print(\"acc= \",cum,\"/\",len(val))\n",
    "#         torch.save(model,\"model/%.3f_%s_%s.pkl\"%(acc,type(model).__name__,\"_\".join(feature)))\n"
   ]
  },
  {
   "cell_type": "code",
   "execution_count": null,
   "metadata": {},
   "outputs": [],
   "source": []
  },
  {
   "cell_type": "code",
   "execution_count": null,
   "metadata": {},
   "outputs": [],
   "source": []
  }
 ],
 "metadata": {
  "kernelspec": {
   "display_name": "Python 3",
   "language": "python",
   "name": "python3"
  },
  "language_info": {
   "codemirror_mode": {
    "name": "ipython",
    "version": 3
   },
   "file_extension": ".py",
   "mimetype": "text/x-python",
   "name": "python",
   "nbconvert_exporter": "python",
   "pygments_lexer": "ipython3",
   "version": "3.7.4"
  }
 },
 "nbformat": 4,
 "nbformat_minor": 2
}
