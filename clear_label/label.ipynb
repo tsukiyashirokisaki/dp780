{
 "cells": [
  {
   "cell_type": "code",
   "execution_count": 15,
   "metadata": {},
   "outputs": [],
   "source": [
    "import cv2\n",
    "import numpy as np\n",
    "import matplotlib.patches as patches\n",
    "import matplotlib.pyplot as plt\n",
    "img = cv2.imread(\"input/after/train0b.tif\")"
   ]
  },
  {
   "cell_type": "code",
   "execution_count": 16,
   "metadata": {},
   "outputs": [],
   "source": [
    "pattern = np.ones([3])*247\n",
    "corner=[]\n",
    "for i in range(img.shape[0]-1):\n",
    "    for j in range(img.shape[1]-1):\n",
    "        if (img[i,j]==pattern).all() and (img[i+1,j]==pattern).all() and (img[i,j+1]==pattern).all():\n",
    "            corner.append([i,j])\n",
    "        "
   ]
  },
  {
   "cell_type": "code",
   "execution_count": 17,
   "metadata": {},
   "outputs": [],
   "source": [
    "new_corner=[]\n",
    "for (i,j) in corner:\n",
    "    if [i-1,j] in corner or [i,j-1] in corner:\n",
    "        pass\n",
    "    else:\n",
    "        new_corner.append([i,j])\n",
    "        "
   ]
  },
  {
   "cell_type": "code",
   "execution_count": 18,
   "metadata": {},
   "outputs": [],
   "source": [
    "corner=[]\n",
    "for (i,j) in new_corner:\n",
    "    if (img[i,j]==pattern).all() and (img[i+1,j]==pattern).all() and (img[i,j+1]==pattern).all() and (img[i-1,j]==pattern).all() and (img[i,j-1]==pattern).all():\n",
    "        pass\n",
    "    else:\n",
    "        corner.append([i,j])\n",
    "        \n",
    "        "
   ]
  },
  {
   "cell_type": "code",
   "execution_count": 1,
   "metadata": {},
   "outputs": [
    {
     "ename": "NameError",
     "evalue": "name 'np' is not defined",
     "output_type": "error",
     "traceback": [
      "\u001b[1;31m---------------------------------------------------------------------------\u001b[0m",
      "\u001b[1;31mNameError\u001b[0m                                 Traceback (most recent call last)",
      "\u001b[1;32m<ipython-input-1-cbe954ee60bc>\u001b[0m in \u001b[0;36m<module>\u001b[1;34m\u001b[0m\n\u001b[1;32m----> 1\u001b[1;33m \u001b[0mcorner\u001b[0m \u001b[1;33m=\u001b[0m \u001b[0mnp\u001b[0m\u001b[1;33m.\u001b[0m\u001b[0mload\u001b[0m\u001b[1;33m(\u001b[0m\u001b[1;34m\"output/train_corner_0.npy\"\u001b[0m\u001b[1;33m)\u001b[0m\u001b[1;33m\u001b[0m\u001b[1;33m\u001b[0m\u001b[0m\n\u001b[0m\u001b[0;32m      2\u001b[0m \u001b[0mfig\u001b[0m\u001b[1;33m,\u001b[0m\u001b[0max\u001b[0m \u001b[1;33m=\u001b[0m \u001b[0mplt\u001b[0m\u001b[1;33m.\u001b[0m\u001b[0msubplots\u001b[0m\u001b[1;33m(\u001b[0m\u001b[1;36m1\u001b[0m\u001b[1;33m)\u001b[0m\u001b[1;33m\u001b[0m\u001b[1;33m\u001b[0m\u001b[0m\n\u001b[0;32m      3\u001b[0m \u001b[0max\u001b[0m\u001b[1;33m.\u001b[0m\u001b[0mimshow\u001b[0m\u001b[1;33m(\u001b[0m\u001b[0mimg\u001b[0m\u001b[1;33m)\u001b[0m\u001b[1;33m\u001b[0m\u001b[1;33m\u001b[0m\u001b[0m\n\u001b[0;32m      4\u001b[0m \u001b[1;32mfor\u001b[0m \u001b[0mi\u001b[0m \u001b[1;32min\u001b[0m \u001b[0mrange\u001b[0m\u001b[1;33m(\u001b[0m\u001b[0mlen\u001b[0m\u001b[1;33m(\u001b[0m\u001b[0mcorner\u001b[0m\u001b[1;33m)\u001b[0m\u001b[1;33m)\u001b[0m\u001b[1;33m:\u001b[0m\u001b[1;33m\u001b[0m\u001b[1;33m\u001b[0m\u001b[0m\n\u001b[0;32m      5\u001b[0m     \u001b[0msample_y\u001b[0m\u001b[1;33m,\u001b[0m\u001b[0msample_x\u001b[0m \u001b[1;33m=\u001b[0m \u001b[0mcorner\u001b[0m\u001b[1;33m[\u001b[0m\u001b[0mi\u001b[0m\u001b[1;33m]\u001b[0m\u001b[1;33m\u001b[0m\u001b[1;33m\u001b[0m\u001b[0m\n",
      "\u001b[1;31mNameError\u001b[0m: name 'np' is not defined"
     ]
    }
   ],
   "source": [
    "corner = np.load(\"output/train_corner_0.npy\")\n",
    "fig,ax = plt.subplots(1)\n",
    "ax.imshow(img)        \n",
    "for i in range(len(corner)):\n",
    "    sample_y,sample_x = corner[i]\n",
    "    h,w=50,50\n",
    "    rect = patches.Rectangle((sample_x,sample_y),50,50,linewidth=1,edgecolor='w',facecolor='none')\n",
    "    ax.add_patch(rect)\n",
    "    plt.text(sample_x+25, sample_y+25,str(i),color=\"w\")\n",
    "plt.savefig(\"output/train0b-2.png\",dpi=600)\n",
    "plt.show()"
   ]
  },
  {
   "cell_type": "code",
   "execution_count": 20,
   "metadata": {},
   "outputs": [
    {
     "data": {
      "text/plain": [
       "array([[  0, 250],\n",
       "       [  0, 299],\n",
       "       [ 30, 338],\n",
       "       [ 30, 387],\n",
       "       [ 42,  72],\n",
       "       [ 64, 275],\n",
       "       [ 82,  19],\n",
       "       [ 90, 437],\n",
       "       [127, 168],\n",
       "       [140, 275],\n",
       "       [141, 224],\n",
       "       [152,  56],\n",
       "       [152, 112],\n",
       "       [180, 450],\n",
       "       [185,   6],\n",
       "       [268, 327],\n",
       "       [268, 382],\n",
       "       [268, 437],\n",
       "       [293, 350],\n",
       "       [318, 300],\n",
       "       [328, 250],\n",
       "       [412, 450],\n",
       "       [423, 250]])"
      ]
     },
     "execution_count": 20,
     "metadata": {},
     "output_type": "execute_result"
    }
   ],
   "source": [
    "np.load(\"output/train_corner_0.npy\")"
   ]
  },
  {
   "cell_type": "code",
   "execution_count": null,
   "metadata": {},
   "outputs": [],
   "source": []
  }
 ],
 "metadata": {
  "kernelspec": {
   "display_name": "Python 3",
   "language": "python",
   "name": "python3"
  },
  "language_info": {
   "codemirror_mode": {
    "name": "ipython",
    "version": 3
   },
   "file_extension": ".py",
   "mimetype": "text/x-python",
   "name": "python",
   "nbconvert_exporter": "python",
   "pygments_lexer": "ipython3",
   "version": "3.7.4"
  }
 },
 "nbformat": 4,
 "nbformat_minor": 2
}
