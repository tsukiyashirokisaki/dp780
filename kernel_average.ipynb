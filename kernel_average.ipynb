{
 "cells": [
  {
   "cell_type": "code",
   "execution_count": 1,
   "metadata": {},
   "outputs": [],
   "source": [
    "import sys\n",
    "import os\n",
    "import cv2\n",
    "import pandas as pd\n",
    "import torch\n",
    "import torch.nn as nn\n",
    "import numpy as np\n",
    "import random\n",
    "import time\n",
    "import matplotlib.pyplot as plt\n",
    "from numpy import pi, matmul,sqrt,dot,array,zeros,cos,sin,pi,arccos,arctan\n",
    "from torch.utils.data import DataLoader\n",
    "from func import OR,heatplot,calmisorientation,mat2plot, match,imgshow,calpoint,L2,L1,ipfread,misorientation\n",
    "from Class import Exp,Data,Cluster\n",
    "import torch.nn.functional as F\n",
    "import matplotlib.patches as patches\n",
    "from multiprocessing import Process, Pool\n",
    "from sklearn.mixture import GaussianMixture\n",
    "class Dataset(torch.utils.data.Dataset):\n",
    "    def __init__(self,bef,im,target):\n",
    "        self.bef=bef\n",
    "        self.im=im\n",
    "        self.target=target\n",
    "    def __getitem__(self,index):\n",
    "        X=self.bef[index]\n",
    "        Y=self.target[index]\n",
    "        im=self.im[index]\n",
    "        return torch.tensor(X,dtype=torch.float32),torch.tensor(Y,dtype=torch.long),im\n",
    "    def __len__(self):\n",
    "        return len(self.bef)\n",
    "def negsample(corner):\n",
    "    mat=np.zeros([500,500])\n",
    "    for (i,j) in corner:\n",
    "        for k in range(max(0,i-49),min(500,i+50)):\n",
    "            for l in range(max(0,j-49),min(500,j+50)):\n",
    "                mat[k,l]=1\n",
    "    cand = []\n",
    "    for i in range(451):\n",
    "        for j in range(451):\n",
    "            if not mat[i][j]:\n",
    "                cand.append([i,j])\n",
    "    return random.sample(cand,len(corner))\n",
    "def kneigh(bc,k):\n",
    "    kernel=np.ones([k*2+1,k*2+1])*1/(k*2+1)**2\n",
    "    bc_=bc.copy()\n",
    "    h,w=bc.shape\n",
    "    for i in range(k,h-k):\n",
    "        for j in range(k,w-k):\n",
    "            bc_[i,j]=np.sum(kernel*bc[i-k:i+k+1,j-k:j+k+1])\n",
    "    return bc_"
   ]
  },
  {
   "cell_type": "code",
   "execution_count": 2,
   "metadata": {},
   "outputs": [
    {
     "data": {
      "text/plain": [
       "<matplotlib.image.AxesImage at 0x21d9e8c6d88>"
      ]
     },
     "execution_count": 2,
     "metadata": {},
     "output_type": "execute_result"
    },
    {
     "data": {
      "image/png": "[encoded data removed]",
      "text/plain": [
       "<Figure size 432x288 with 1 Axes>"
      ]
     },
     "metadata": {
      "needs_background": "light"
     },
     "output_type": "display_data"
    }
   ],
   "source": [
    "data=Data(\"data/train/20200916/before/\")\n",
    "ipf=ipfread(\"data/train/20200916/before/\")\n",
    "orient=data.data[\"Orient\"]\n",
    "phase=data.data[\"Phase\"]\n",
    "inv = np.load(\"new_inv.npy\")\n",
    "h,w=orient.shape[0],orient.shape[1]\n",
    "bc=data.data[\"BC\"]\n",
    "plt.imshow(data.data[\"Phase\"],cmap=\"gray\")"
   ]
  },
  {
   "cell_type": "code",
   "execution_count": 3,
   "metadata": {},
   "outputs": [],
   "source": [
    "neigh=[np.expand_dims(bc,2)]\n",
    "for i in range(1):\n",
    "    neigh.append(np.expand_dims(kneigh(bc,i),2))\n",
    "X = np.concatenate(neigh,axis=2).reshape([h*w,-1])\n",
    "gm = GaussianMixture(n_components=2, random_state=30,tol=1e-5,reg_covar=1e-3).fit(X)"
   ]
  },
  {
   "cell_type": "code",
   "execution_count": 4,
   "metadata": {},
   "outputs": [
    {
     "data": {
      "text/plain": [
       "<matplotlib.image.AxesImage at 0x21d9ca41408>"
      ]
     },
     "execution_count": 4,
     "metadata": {},
     "output_type": "execute_result"
    },
    {
     "data": {
      "image/png": "[encoded data removed]",
      "text/plain": [
       "<Figure size 432x288 with 1 Axes>"
      ]
     },
     "metadata": {
      "needs_background": "light"
     },
     "output_type": "display_data"
    }
   ],
   "source": [
    "phase=data.data[\"Phase\"]\n",
    "phase_=data.data[\"Phase\"].copy()\n",
    "for i in range(1,h-1):\n",
    "    for j in range(1,w-1):\n",
    "        if phase[i,j]==0:\n",
    "            phase_[i-1:i+2,j-1:j+2]=np.zeros([3,3])\n",
    "plt.imshow(phase_,cmap=\"gray\")\n",
    "phase=1-phase_\n",
    "cmap=np.zeros([phase.shape[0],phase.shape[1]]).astype(\"int\")\n",
    "cluster=dict()\n",
    "ind = 1\n",
    "for i in range(phase.shape[0]):\n",
    "    for j in range(phase.shape[1]):\n",
    "        if phase[i,j]==1:\n",
    "            if j>0 and phase[i,j-1]==1:\n",
    "                cmap[i,j]=cmap[i,j-1]\n",
    "                cluster[cmap[i,j]].add(i,j)\n",
    "                if i>0 and phase[i-1,j]==1 and cmap[i,j]!=cmap[i-1,j]:\n",
    "                    cluster[cmap[i,j]].addn(cmap[i-1,j])\n",
    "                    cluster[cmap[i-1,j]].addn(cmap[i,j])                    \n",
    "            elif i>0 and phase[i-1,j]==1:\n",
    "                cmap[i,j]=cmap[i-1,j]\n",
    "                cluster[cmap[i,j]].add(i,j)\n",
    "            else:\n",
    "                cmap[i,j]=ind\n",
    "                cluster[ind]=Cluster(ind,i,j)\n",
    "                ind+=1   \n",
    "for key in range(1,ind):\n",
    "    if key in cluster:\n",
    "        for neigh in cluster[key].neigh.copy():\n",
    "            cluster[key].merge(neigh,cluster)\n",
    "crack=[]\n",
    "phase_aft=np.ones([phase.shape[0],phase.shape[1]])\n",
    "for key in range(1,ind):\n",
    "    if key in cluster:\n",
    "        if cluster[key].num>200:\n",
    "            for (i,j) in cluster[key].pixels:\n",
    "                phase_aft[i,j]=0\n",
    "            crack.append(key)\n",
    "plt.imshow(phase_aft,cmap=\"gray\")"
   ]
  },
  {
   "cell_type": "code",
   "execution_count": null,
   "metadata": {},
   "outputs": [],
   "source": []
  }
 ],
 "metadata": {
  "kernelspec": {
   "display_name": "Python 3",
   "language": "python",
   "name": "python3"
  },
  "language_info": {
   "codemirror_mode": {
    "name": "ipython",
    "version": 3
   },
   "file_extension": ".py",
   "mimetype": "text/x-python",
   "name": "python",
   "nbconvert_exporter": "python",
   "pygments_lexer": "ipython3",
   "version": "3.7.4"
  }
 },
 "nbformat": 4,
 "nbformat_minor": 2
}
