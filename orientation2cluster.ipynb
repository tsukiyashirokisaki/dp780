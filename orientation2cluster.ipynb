{
 "cells": [
  {
   "cell_type": "code",
   "execution_count": 1,
   "metadata": {},
   "outputs": [],
   "source": [
    "import sys\n",
    "import os\n",
    "import cv2\n",
    "import pandas as pd\n",
    "import torch\n",
    "import torch.nn as nn\n",
    "import numpy as np\n",
    "import random\n",
    "import time\n",
    "import matplotlib.pyplot as plt\n",
    "from numpy import pi, matmul,sqrt,dot,array,zeros,cos,sin,pi,arccos,arctan\n",
    "from torch.utils.data import DataLoader\n",
    "from func import OR,heatplot,calmisorientation,mat2plot, match,imgshow,calpoint,L2,L1,ipfread,misorientation\n",
    "from Class import Exp,Data,Cluster\n",
    "import torch.nn.functional as F\n",
    "import matplotlib.patches as patches\n",
    "from multiprocessing import Process, Pool\n",
    "class Dataset(torch.utils.data.Dataset):\n",
    "    def __init__(self,bef,im,target):\n",
    "        self.bef=bef\n",
    "        self.im=im\n",
    "        self.target=target\n",
    "    def __getitem__(self,index):\n",
    "        X=self.bef[index]\n",
    "        Y=self.target[index]\n",
    "        im=self.im[index]\n",
    "        return torch.tensor(X,dtype=torch.float32),torch.tensor(Y,dtype=torch.long),im\n",
    "    def __len__(self):\n",
    "        return len(self.bef)\n",
    "def negsample(corner):\n",
    "    mat=np.zeros([500,500])\n",
    "    for (i,j) in corner:\n",
    "        for k in range(max(0,i-49),min(500,i+50)):\n",
    "            for l in range(max(0,j-49),min(500,j+50)):\n",
    "                mat[k,l]=1\n",
    "    cand = []\n",
    "    for i in range(451):\n",
    "        for j in range(451):\n",
    "            if not mat[i][j]:\n",
    "                cand.append([i,j])\n",
    "    return random.sample(cand,len(corner))\n"
   ]
  },
  {
   "cell_type": "code",
   "execution_count": 2,
   "metadata": {},
   "outputs": [
    {
     "data": {
      "text/plain": [
       "<matplotlib.image.AxesImage at 0x1567170ec48>"
      ]
     },
     "execution_count": 2,
     "metadata": {},
     "output_type": "execute_result"
    },
    {
     "data": {
      "image/png": "[encoded data removed]",
      "text/plain": [
       "<Figure size 432x288 with 1 Axes>"
      ]
     },
     "metadata": {
      "needs_background": "light"
     },
     "output_type": "display_data"
    }
   ],
   "source": [
    "data=Data(\"data/train/20200916/before/\")\n",
    "ipf=ipfread(\"data/train/20200916/before/\")\n",
    "orient=data.data[\"Orient\"]\n",
    "inv = np.load(\"new_inv.npy\")\n",
    "h,w=orient.shape[0],orient.shape[1]\n",
    "plt.imshow(data.data[\"Phase\"],cmap=\"gray\")"
   ]
  },
  {
   "cell_type": "code",
   "execution_count": 15,
   "metadata": {},
   "outputs": [
    {
     "name": "stdout",
     "output_type": "stream",
     "text": [
      "159.88696575164795\n"
     ]
    }
   ],
   "source": [
    "h,w=orient.shape[0],orient.shape[1]\n",
    "s=time.time()\n",
    "bd_map=np.ones([h,w]).astype(\"int\") # c-> class #\n",
    "bd_map[0,0]=c=1\n",
    "t=3\n",
    "for i in range(h):#h\n",
    "    for j in range(w):#w\n",
    "        if i==0 :\n",
    "            if j!=w-1:\n",
    "                if misorientation(orient[i,j],orient[i,j+1],inv)>t:\n",
    "                    bd_map[i,j+1]=bd_map[i,j]=0\n",
    "        else:\n",
    "            if j==0:\n",
    "                if misorientation(orient[i,j],orient[i-1,j],inv)>t:\n",
    "                    bd_map[i,j]=bd_map[i-1,j]=0\n",
    "            else:\n",
    "                n1=misorientation(orient[i,j],orient[i-1,j],inv)\n",
    "                n2=misorientation(orient[i,j],orient[i,j-1],inv)\n",
    "                if n1>t:\n",
    "                    bd_map[i,j]=bd_map[i-1,j]=0\n",
    "                if n2>t:\n",
    "                    bd_map[i,j]=bd_map[i,j-1]=0\n",
    "e=time.time()          \n",
    "print(e-s)"
   ]
  },
  {
   "cell_type": "code",
   "execution_count": 29,
   "metadata": {},
   "outputs": [],
   "source": [
    "h,w=orient.shape[0],orient.shape[1]\n",
    "kernel=np.array([[0,0,0],[0,1,0],[0,0,0]])\n",
    "bd_map_new=np.zeros([h,w])\n",
    "for i in range(1,h-1):\n",
    "    for j in range(1,w-1):\n",
    "        cal=np.sum(kernel*(1-bd_map[i-1:i+2,j-1:j+2]))\n",
    "        if cal==1:\n",
    "            bd_map_new[i,j]=1\n",
    "bd_map=(1-bd_map_new)*data.data[\"Phase\"]\n",
    "        \n"
   ]
  },
  {
   "cell_type": "code",
   "execution_count": 3,
   "metadata": {},
   "outputs": [],
   "source": [
    "# plt.imshow(bd_map,cmap=\"gray\")\n",
    "# np.save(\"output/sample_phase.npy\",bd_map)\n",
    "bd_map=np.load(\"output/sample_phase.npy\")"
   ]
  },
  {
   "cell_type": "code",
   "execution_count": 5,
   "metadata": {},
   "outputs": [
    {
     "data": {
      "text/plain": [
       "<matplotlib.image.AxesImage at 0x1566e455fc8>"
      ]
     },
     "execution_count": 5,
     "metadata": {},
     "output_type": "execute_result"
    },
    {
     "data": {
      "image/png": "[encoded data removed]",
      "text/plain": [
       "<Figure size 432x288 with 1 Axes>"
      ]
     },
     "metadata": {
      "needs_background": "light"
     },
     "output_type": "display_data"
    }
   ],
   "source": [
    "plt.imshow(bd_map,cmap=\"gray\")"
   ]
  },
  {
   "cell_type": "code",
   "execution_count": 7,
   "metadata": {},
   "outputs": [],
   "source": [
    "id2clus=dict() \n",
    "class_map=np.zeros([h,w]).astype(\"int\") # c-> class #\n",
    "# 0->martensite, 1->ferrite\n",
    "cluster=Cluster(0,-1,-1)\n",
    "id2clus[0]=cluster\n",
    "c=0\n",
    "if bd_map[0,0]:\n",
    "    c+=1\n",
    "    class_map[0,0]=c\n",
    "else:\n",
    "    class_map[0,0]=0 \n",
    "cluster=Cluster(c,0,0)\n",
    "id2clus[class_map[0,0]]=cluster\n",
    "for i in range(h):#h\n",
    "    for j in range(w):#w\n",
    "        if i==0 :\n",
    "            if j!=w-1:                \n",
    "                if not bd_map[i,j+1]: #(1,0),(0,0)\n",
    "                    id2clus[0].add(i,j+1)\n",
    "                    class_map[i,j+1]=0\n",
    "                elif bd_map[i,j] and bd_map[i,j+1] : #(1,1)\n",
    "                    id2clus[class_map[i,j]].add(i,j+1)\n",
    "                    class_map[i,j+1]=class_map[i,j]                    \n",
    "                elif not bd_map[i,j] and bd_map[i,j+1] : #(0,1)\n",
    "                    c+=1\n",
    "                    class_map[i,j+1]=c\n",
    "                    cluster=Cluster(c,i,j+1)\n",
    "                    id2clus[class_map[i,j+1]]=cluster\n",
    "        else:\n",
    "            if j==0:\n",
    "                if not bd_map[i,j]: #(x,0)\n",
    "                    id2clus[0].add(i,j)\n",
    "                    class_map[i,j]=0\n",
    "                elif bd_map[i-1,j] and bd_map[i,j] : #(1,1)\n",
    "                    id2clus[class_map[i-1,j]].add(i,j)\n",
    "                    class_map[i,j]=class_map[i-1,j]      \n",
    "                else: #(0,1)\n",
    "                    c+=1\n",
    "                    class_map[i,j]=c\n",
    "                    cluster=Cluster(c,i,j)\n",
    "                    id2clus[class_map[i,j]]=cluster\n",
    "            else:\n",
    "                if not bd_map[i,j]:\n",
    "                    id2clus[0].add(i,j)\n",
    "                    class_map[i,j]=0\n",
    "                elif bd_map[i-1,j] and bd_map[i,j] : #(1,1)\n",
    "                    id2clus[class_map[i-1,j]].add(i,j)\n",
    "                    class_map[i,j]=class_map[i-1,j] \n",
    "                    if bd_map[i,j-1]:\n",
    "                        id2clus[class_map[i,j-1]].addn(class_map[i,j])\n",
    "                        id2clus[class_map[i,j]].addn(class_map[i,j-1])                    \n",
    "                elif bd_map[i,j-1] and bd_map[i,j] : #(1,1)\n",
    "                    id2clus[class_map[i,j-1]].add(i,j)\n",
    "                    class_map[i,j]=class_map[i,j-1] \n",
    "                    if bd_map[i-1,j]:\n",
    "                        id2clus[class_map[i-1,j]].addn(class_map[i,j])\n",
    "                        id2clus[class_map[i,j]].addn(class_map[i-1,j])  \n",
    "                else:\n",
    "                    c+=1\n",
    "                    class_map[i,j]=c\n",
    "                    cluster=Cluster(c,i,j)\n",
    "                    id2clus[class_map[i,j]]=cluster\n",
    "                    \n",
    "                "
   ]
  },
  {
   "cell_type": "code",
   "execution_count": 10,
   "metadata": {},
   "outputs": [
    {
     "data": {
      "text/plain": [
       "array([[   1,    1,    1, ...,    0,    0,   31],\n",
       "       [   1,    0,    0, ...,    0,    0,    0],\n",
       "       [   1,    0,   32, ...,    0,    0,    0],\n",
       "       ...,\n",
       "       [3695,    0, 3696, ...,    0,    0,    0],\n",
       "       [3695,    0, 3696, ...,    0,    0,    0],\n",
       "       [3695, 3695, 3696, ...,    0,    0,    0]])"
      ]
     },
     "execution_count": 10,
     "metadata": {},
     "output_type": "execute_result"
    }
   ],
   "source": [
    "class_map"
   ]
  },
  {
   "cell_type": "code",
   "execution_count": 5,
   "metadata": {},
   "outputs": [
    {
     "data": {
      "image/png": "[encoded data removed]",
      "text/plain": [
       "<Figure size 432x288 with 1 Axes>"
      ]
     },
     "metadata": {
      "needs_background": "light"
     },
     "output_type": "display_data"
    },
    {
     "name": "stdout",
     "output_type": "stream",
     "text": [
      "324\n"
     ]
    },
    {
     "data": {
      "image/png": "[encoded data removed]",
      "text/plain": [
       "<Figure size 432x288 with 1 Axes>"
      ]
     },
     "metadata": {
      "needs_background": "light"
     },
     "output_type": "display_data"
    }
   ],
   "source": [
    "inv = np.load(\"unit_matrix_inv.npy\")\n",
    "ind=2\n",
    "orient=train[ind][0][:9,:,:].reshape(3,3,50,50).numpy()\n",
    "orient=np.transpose(orient,(2,3,0,1))\n",
    "bc=train[ind][0][9,:,:].reshape(50,50).numpy()\n",
    "h=w=50\n",
    "id2clus=dict()\n",
    "class_map=np.zeros([h,w]).astype(\"int\") # c-> class #\n",
    "class_map[0,0]=c=1\n",
    "cluster=OrientCluster(c,0,0,orient[0,0],bc[0,0])\n",
    "id2clus[class_map[0,0]]=cluster\n",
    "t=1\n",
    "for i in range(h):#h\n",
    "    for j in range(w):#w\n",
    "        if i==0 :\n",
    "            if j!=w-1:\n",
    "                if misorientation(orient[i,j],orient[i,j+1],inv)<t:\n",
    "                    class_map[i,j+1]=class_map[i,j]\n",
    "                    id2clus[class_map[i,j+1]].add(i,j+1,orient[i,j+1],bc[i,j+1])\n",
    "                else:\n",
    "                    c+=1\n",
    "                    class_map[i,j+1]=c\n",
    "                    cluster=OrientCluster(c,i,j+1,orient[i,j+1],bc[i,j+1])\n",
    "                    id2clus[class_map[i,j+1]]=cluster\n",
    "                    id2clus[class_map[i,j+1]].addn(class_map[i,j])\n",
    "                    id2clus[class_map[i,j]].addn(class_map[i,j+1])\n",
    "        else:\n",
    "            if j==0:\n",
    "                if misorientation(orient[i,j],orient[i-1,j],inv)<t:\n",
    "                    class_map[i,j]=class_map[i-1,j]\n",
    "                    id2clus[class_map[i,j]].add(i,j,orient[i,j],bc[i,j])\n",
    "                else:\n",
    "                    c+=1\n",
    "                    class_map[i,j]=c\n",
    "                    cluster=OrientCluster(c,i,j,orient[i,j],bc[i,j])\n",
    "                    id2clus[class_map[i,j]]=cluster\n",
    "                    id2clus[class_map[i-1,j]].addn(class_map[i,j])\n",
    "                    id2clus[class_map[i,j]].addn(class_map[i-1,j])\n",
    "            else:\n",
    "                n1=misorientation(orient[i,j],orient[i-1,j],inv)\n",
    "                n2=misorientation(orient[i,j],orient[i,j-1],inv)\n",
    "                if n1<n2 and n1<t:\n",
    "                    class_map[i,j]=class_map[i-1,j]\n",
    "                    id2clus[class_map[i,j]].add(i,j,orient[i,j],bc[i,j])\n",
    "                    if class_map[i,j]!=class_map[i,j-1]:\n",
    "                        id2clus[class_map[i,j]].addn(class_map[i,j-1])\n",
    "                        id2clus[class_map[i,j-1]].addn(class_map[i,j])\n",
    "                elif n2<t:\n",
    "                    class_map[i,j]=class_map[i,j-1]\n",
    "                    id2clus[class_map[i,j]].add(i,j,orient[i,j],bc[i,j])\n",
    "                    if class_map[i,j]!=class_map[i-1,j]:\n",
    "                        id2clus[class_map[i,j]].addn(class_map[i-1,j])\n",
    "                        id2clus[class_map[i-1,j]].addn(class_map[i,j])\n",
    "                else:\n",
    "                    c+=1\n",
    "                    class_map[i,j]=c\n",
    "                    cluster=OrientCluster(c,i,j,orient[i,j],bc[i,j])\n",
    "                    id2clus[class_map[i,j]]=cluster\n",
    "                    if class_map[i,j]!=class_map[i-1,j]:\n",
    "                        id2clus[class_map[i,j]].addn(class_map[i-1,j])\n",
    "                        id2clus[class_map[i-1,j]].addn(class_map[i,j])\n",
    "                    if class_map[i,j]!=class_map[i,j-1]:\n",
    "                        id2clus[class_map[i,j]].addn(class_map[i,j-1])\n",
    "                        id2clus[class_map[i,j-1]].addn(class_map[i,j])\n",
    "mat2plot(class_map)\n",
    "plt.show()\n",
    "plt.imshow(train[ind][2][:,:,:3])\n",
    "print(len(id2clus))"
   ]
  },
  {
   "cell_type": "code",
   "execution_count": 8,
   "metadata": {},
   "outputs": [
    {
     "data": {
      "image/png": "[encoded data removed]",
      "text/plain": [
       "<Figure size 432x288 with 1 Axes>"
      ]
     },
     "metadata": {
      "needs_background": "light"
     },
     "output_type": "display_data"
    },
    {
     "name": "stdout",
     "output_type": "stream",
     "text": [
      "133\n"
     ]
    },
    {
     "data": {
      "image/png": "[encoded data removed]",
      "text/plain": [
       "<Figure size 432x288 with 1 Axes>"
      ]
     },
     "metadata": {
      "needs_background": "light"
     },
     "output_type": "display_data"
    }
   ],
   "source": [
    "t2=3;t3=100\n",
    "for i in range(1,c+1):\n",
    "    if i in id2clus:\n",
    "        for id in id2clus[i].neigh.copy():\n",
    "            if  misorientation(id2clus[i].ormt,id2clus[id].ormt,inv)<t2:\n",
    "                id2clus[i].merge(id,id2clus)\n",
    "for id in list(id2clus.keys()):\n",
    "    for (i,j) in id2clus[id].pixels:\n",
    "        class_map[i,j]=id                \n",
    "mat2plot(class_map)\n",
    "plt.show()\n",
    "plt.imshow(train[ind][2][:,:,:3])\n",
    "print(len(id2clus))\n",
    "                    "
   ]
  },
  {
   "cell_type": "code",
   "execution_count": 28,
   "metadata": {},
   "outputs": [
    {
     "data": {
      "text/plain": [
       "array([[ 4,  4,  4,  4,  4,  4,  4,  4,  5,  5,  5,  5,  5,  5,  5,  6,\n",
       "         6,  6,  6,  6,  6,  6,  6,  6,  6,  6,  6,  6,  6,  6],\n",
       "       [ 4,  4,  4,  4,  4,  4,  4,  4,  4,  5,  5,  5,  5,  5,  5,  6,\n",
       "         6,  6,  6,  6,  6,  6,  6,  6,  6,  6,  6,  6,  6,  6],\n",
       "       [ 4,  4,  4,  4,  4,  4,  4,  4,  4,  9,  5,  5,  5,  5,  5,  6,\n",
       "         6,  6,  6,  6,  6,  6,  6,  6,  6,  6,  6,  6,  6,  6],\n",
       "       [ 4,  4,  4,  4,  4,  4,  4, 12, 12, 12, 12, 12,  5,  5,  5,  6,\n",
       "         6,  6,  6,  6,  6,  6,  6,  6,  6,  6,  6,  6,  6,  6],\n",
       "       [ 4,  4,  4,  4,  4, 13, 13, 13, 13, 13, 14, 12, 15,  5,  5,  5,\n",
       "         6,  6,  6,  6,  6,  6,  6,  6,  6,  6,  6,  6,  6,  6],\n",
       "       [ 4,  4,  4,  4, 16, 16, 16, 16, 16, 16, 16, 16, 16,  5,  5,  5,\n",
       "         6,  6,  6,  6,  6,  6,  6,  6,  6,  6,  6,  6,  6, 17],\n",
       "       [ 4, 19, 20, 21, 21, 21, 21, 21, 21, 21, 21, 21, 22, 22, 22, 22,\n",
       "        22,  6,  6,  6,  6,  6,  6,  6,  6,  6,  6,  6, 23, 23],\n",
       "       [25, 26, 26, 26, 27, 27, 27, 21, 21, 21, 21, 21, 22, 22, 22, 22,\n",
       "        22,  6,  6,  6,  6,  6,  6,  6,  6,  6,  6,  6, 23, 23],\n",
       "       [29, 29, 29, 29, 29, 29, 27, 27, 21, 21, 21, 21, 22, 22, 22, 22,\n",
       "        22, 22,  6,  6,  6,  6,  6,  6,  6,  6,  6, 30, 23, 23],\n",
       "       [29, 29, 29, 29, 29, 29, 29, 27, 27, 21, 21, 21, 22, 22, 22, 22,\n",
       "        22, 22,  6,  6,  6,  6,  6,  6,  6,  6,  6, 30, 23, 23],\n",
       "       [29, 29, 29, 29, 29, 29, 29, 29, 29, 36, 21, 21, 22, 22, 22, 22,\n",
       "        22, 22,  6,  6,  6,  6,  6,  6,  6,  6, 37, 30, 30, 30],\n",
       "       [29, 29, 29, 29, 29, 29, 29, 29, 29, 39, 39, 39, 22, 22, 22, 22,\n",
       "        22, 22, 22,  6,  6,  6,  6,  6,  6,  6, 37, 37, 37, 30],\n",
       "       [29, 29, 29, 29, 29, 29, 29, 29, 29, 39, 39, 39, 39, 22, 22, 22,\n",
       "        22, 22, 22, 22, 22,  6,  6,  6,  6,  6, 37, 37, 37, 30],\n",
       "       [29, 29, 29, 29, 29, 29, 29, 29, 44, 44, 44, 44, 44, 44, 22, 22,\n",
       "        22, 22, 22, 22, 22,  6,  6,  6,  6,  6,  6, 37, 37, 30],\n",
       "       [29, 29, 29, 29, 29, 29, 29, 47, 47, 47, 47, 47, 47, 47, 22, 22,\n",
       "        22, 22, 22, 22, 22,  6,  6,  6,  6,  6,  6,  6, 37, 37],\n",
       "       [29, 29, 29, 29, 48, 48, 48, 48, 48, 48, 49, 47, 50, 47, 47, 22,\n",
       "        22, 22, 22, 22, 22,  6,  6,  6,  6,  6,  6, 51, 52, 53],\n",
       "       [61, 62, 63, 63, 64, 48, 48, 65, 48, 48, 48, 48, 48, 66, 47, 47,\n",
       "        47, 47, 22, 22, 22, 22, 22, 22, 22,  6,  6,  6,  6, 53],\n",
       "       [73, 74, 74, 74, 75, 48, 48, 48, 48, 48, 48, 76, 48, 48, 77, 47,\n",
       "        47, 47, 47, 22, 22, 22, 22, 22, 22,  6,  6,  6,  6, 53],\n",
       "       [59, 59, 59, 59, 75, 82, 48, 48, 83, 48, 48, 48, 84, 48, 85, 47,\n",
       "        47, 47, 47, 47, 22, 22, 22, 22, 86, 86, 86,  6,  6, 53],\n",
       "       [59, 59, 59, 59, 59, 82, 89, 48, 90, 48, 48, 48, 91, 92, 85, 93,\n",
       "        47, 47, 47, 94, 95, 95, 22, 96, 97, 98, 86,  6,  6, 53]])"
      ]
     },
     "execution_count": 28,
     "metadata": {},
     "output_type": "execute_result"
    }
   ],
   "source": [
    "class_map[:20,-30:]"
   ]
  },
  {
   "cell_type": "code",
   "execution_count": 29,
   "metadata": {},
   "outputs": [
    {
     "data": {
      "text/plain": [
       "0.0"
      ]
     },
     "execution_count": 29,
     "metadata": {},
     "output_type": "execute_result"
    }
   ],
   "source": [
    "misorientation(id2clus[4].ormt,id2clus[5].ormt,inv)"
   ]
  },
  {
   "cell_type": "code",
   "execution_count": 30,
   "metadata": {},
   "outputs": [
    {
     "data": {
      "text/plain": [
       "(array([[ 5.231322 ,  1.5921055,  1.7599249],\n",
       "        [-2.175059 ,  4.9211497,  2.0127282],\n",
       "        [-0.949856 , -2.4991202,  5.0844445]], dtype=float32),\n",
       " array([[ 3.4782896 ,  1.6585588 ,  0.5367396 ],\n",
       "        [-1.7251412 ,  3.4473422 ,  0.52690333],\n",
       "        [-0.25083315, -0.7094571 ,  3.8178844 ]], dtype=float32))"
      ]
     },
     "execution_count": 30,
     "metadata": {},
     "output_type": "execute_result"
    }
   ],
   "source": [
    "id2clus[4].ormt,id2clus[5].ormt"
   ]
  },
  {
   "cell_type": "code",
   "execution_count": 3,
   "metadata": {},
   "outputs": [],
   "source": [
    "class CNN3(nn.Module):\n",
    "    def __init__(self):\n",
    "        super(CNN3, self).__init__()\n",
    "        self.batchnorm = nn.BatchNorm2d(in_channel)\n",
    "        self.relu = nn.ReLU() # activation\n",
    "        self.maxpool = nn.MaxPool2d(kernel_size=2) \n",
    "        self.cnn1 = nn.Conv2d(in_channels=in_channel, out_channels=12, kernel_size=3, stride=1, padding=0) \n",
    "        self.cnn2 = nn.Conv2d(in_channels=12, out_channels=18, kernel_size=3, stride=1, padding=1) \n",
    "        self.cnn3 = nn.Conv2d(in_channels=18, out_channels=24, kernel_size=3, stride=1, padding=0) \n",
    "        self.fc1 = nn.Linear(24 * 5 * 5, 2) \n",
    "        self.softmax = nn.Softmax(1)\n",
    "    def forward(self, x):\n",
    "        # Convolution 1 50\n",
    "        out = self.batchnorm(x)\n",
    "        out = self.cnn1(x) # 48\n",
    "        out = self.relu(out)\n",
    "        out = self.maxpool(out) #24\n",
    "        out = self.cnn2(out) #24\n",
    "        out = self.relu(out) \n",
    "        out = self.maxpool(out) #12\n",
    "        out = self.cnn3(out) #10\n",
    "        out = self.relu(out)\n",
    "        out = self.maxpool(out) #5\n",
    "        out = out.view(out.size(0), -1)\n",
    "        # Linear function (readout)\n",
    "        out = self.fc1(out)\n",
    "        out = self.softmax(out)\n",
    "        return out\n",
    "class CNN5(nn.Module):\n",
    "    def __init__(self):\n",
    "        super(CNN5, self).__init__()\n",
    "        self.batchnorm = nn.BatchNorm2d(in_channel)\n",
    "        self.relu = nn.ReLU() # activation\n",
    "        self.maxpool = nn.MaxPool2d(kernel_size=2) \n",
    "        self.cnn1 = nn.Conv2d(in_channels=in_channel, out_channels=12, kernel_size=3, stride=1, padding=0) \n",
    "        self.cnn2 = nn.Conv2d(in_channels=12, out_channels=18, kernel_size=3, stride=1, padding=0) \n",
    "        self.cnn3 = nn.Conv2d(in_channels=18, out_channels=24, kernel_size=3, stride=1, padding=0) \n",
    "        self.fc1 = nn.Linear(24 * 9 * 9, 2) \n",
    "        self.softmax = nn.Softmax(1)\n",
    "    def forward(self, x):\n",
    "        # Convolution 1 50\n",
    "        out = self.batchnorm(x)\n",
    "        out = self.cnn1(x) # 48\n",
    "        out = self.relu(out)\n",
    "        out = self.maxpool(out) #24\n",
    "        out = self.cnn2(out) #22\n",
    "        out = self.relu(out) \n",
    "        out = self.maxpool(out) #11\n",
    "        out = self.cnn3(out) #9\n",
    "        out = self.relu(out)\n",
    "        out = out.view(out.size(0), -1)\n",
    "        # Linear function (readout)\n",
    "        out = self.fc1(out)\n",
    "        out = self.softmax(out)\n",
    "        return out"
   ]
  },
  {
   "cell_type": "code",
   "execution_count": 4,
   "metadata": {},
   "outputs": [],
   "source": [
    "train_loader= DataLoader(train, batch_size=64, shuffle=True,  num_workers=0, drop_last=True )\n",
    "test_loader= DataLoader(test, batch_size=64, shuffle=True,  num_workers=0,  drop_last=False )"
   ]
  },
  {
   "cell_type": "code",
   "execution_count": 5,
   "metadata": {
    "scrolled": true
   },
   "outputs": [
    {
     "name": "stdout",
     "output_type": "stream",
     "text": [
      "0 1.4328786134719849\n",
      "acc=  50 / 102\n",
      "1 1.3680508136749268\n",
      "acc=  52 / 102\n"
     ]
    },
    {
     "name": "stderr",
     "output_type": "stream",
     "text": [
      "/home/kisaki/anaconda3/lib/python3.7/site-packages/torch/serialization.py:256: UserWarning: Couldn't retrieve source code for container of type CNN3. It won't be checked for correctness upon loading.\n",
      "  \"type \" + obj.__name__ + \". It won't be checked \"\n"
     ]
    },
    {
     "name": "stdout",
     "output_type": "stream",
     "text": [
      "2 1.3709940910339355\n",
      "acc=  55 / 102\n",
      "6 1.348008394241333\n",
      "acc=  61 / 102\n",
      "7 1.3372080326080322\n",
      "acc=  69 / 102\n",
      "10 1.32179856300354\n",
      "acc=  71 / 102\n",
      "16 1.2909302711486816\n",
      "acc=  74 / 102\n",
      "23 1.2593402862548828\n",
      "acc=  77 / 102\n",
      "27 1.235084056854248\n",
      "acc=  78 / 102\n",
      "37 1.1921640634536743\n",
      "acc=  79 / 102\n"
     ]
    }
   ],
   "source": [
    "in_channel=train[0][0].shape[0]\n",
    "model = CNN3()\n",
    "Loss = nn.CrossEntropyLoss()\n",
    "optimizer = torch.optim.Adam(model.parameters(), lr=1e-4)\n",
    "max_acc = 0\n",
    "epoch = 400\n",
    "for ep in range(epoch):\n",
    "    for batch_ndx, sample in enumerate(train_loader):\n",
    "        optimizer.zero_grad()\n",
    "        X,Y,_= sample\n",
    "        output=model(X)\n",
    "        loss = Loss(output,Y)\n",
    "        loss.backward()\n",
    "        optimizer.step()\n",
    "#         print(\"train \",ep,loss.item())\n",
    "    model.eval()\n",
    "    cum=0\n",
    "    loss=0\n",
    "    for batch_ndx, sample in enumerate(test_loader):\n",
    "        X,Y,_= sample\n",
    "        output=model(X)\n",
    "        loss+=Loss(output,Y)\n",
    "        predict = torch.max(output, 1)[1]\n",
    "        cum+=np.sum((Y == predict).cpu().numpy())\n",
    "    acc=cum/len(test)\n",
    "    if acc>max_acc:\n",
    "        max_acc=acc\n",
    "        min_loss = loss.item()\n",
    "        print(ep,min_loss)\n",
    "        print(\"acc= \",cum,\"/\",len(test))\n",
    "        torch.save(model,\"model/%s_obcbs_%.3f\"%(type(model).__name__,acc))\n",
    "        \n",
    "    "
   ]
  },
  {
   "cell_type": "code",
   "execution_count": null,
   "metadata": {},
   "outputs": [],
   "source": []
  },
  {
   "cell_type": "code",
   "execution_count": 6,
   "metadata": {},
   "outputs": [],
   "source": [
    "# m1 = torch.load(\"model/CNN5_0.755\")\n",
    "# m2 = torch.load(\"model/CNN3_0.765\")\n",
    "# m1.eval()\n",
    "# m2.eval()\n",
    "# cum=0\n",
    "# for batch_ndx, sample in enumerate(test_loader):\n",
    "#     X,Y,_= sample\n",
    "#     output=m2(X)+m1(X)\n",
    "#     predict = torch.max(output, 1)[1]\n",
    "#     cum+=np.sum((Y == predict).cpu().numpy())\n",
    "# print(cum/len(test))"
   ]
  },
  {
   "cell_type": "code",
   "execution_count": 7,
   "metadata": {},
   "outputs": [],
   "source": [
    "# model = torch.load(\"model/0.765\")\n",
    "# corner=torch.load(\"data/corner.pkl\")\n",
    "# for param in model.parameters():\n",
    "#     param.requires_grad = False\n",
    "# index=1\n",
    "# X=test[index][0].unsqueeze(0)\n",
    "# print(test[index][1])\n",
    "\n",
    "# # we would run the model in evaluation mode\n",
    "# model.eval()\n",
    "\n",
    "# # we need to find the gradient with respect to the input image, so we need to call requires_grad_ on it\n",
    "# X.requires_grad_()\n",
    "\n",
    "# '''\n",
    "# forward pass through the model to get the scores, note that VGG-19 model doesn't perform softmax at the end\n",
    "# and we also don't need softmax, we need scores, so that's perfect for us.\n",
    "# '''\n",
    "\n",
    "# scores = model(X)\n",
    "# print(scores)\n",
    "# # Get the index corresponding to the maximum score and the maximum score itself.\n",
    "# score_max_index = scores.argmax()\n",
    "# score_max = scores[0,score_max_index]\n",
    "\n",
    "# '''\n",
    "# backward function on score_max performs the backward pass in the computation graph and calculates the gradient of \n",
    "# score_max with respect to nodes in the computation graph\n",
    "# '''\n",
    "# score_max.backward()\n",
    "\n",
    "# '''\n",
    "# Saliency would be the gradient with respect to the input image now. But note that the input image has 3 channels,\n",
    "# R, G and B. To derive a single class saliency value for each pixel (i, j),  we take the maximum magnitude\n",
    "# across all colour channels.\n",
    "# '''\n",
    "# saliency, _ = torch.max(X.grad.data.abs(),dim=1)\n",
    "\n",
    "# # code to plot the saliency map as a heatmap\n",
    "# plt.imshow(saliency[0], cmap=plt.cm.hot)\n",
    "# plt.axis('off')\n",
    "# plt.show()\n",
    "# cv2.imwrite(\"output/t1.png\",(255*test[index][2][:,:,6:]).astype(\"int\"))\n",
    "# plt.imshow((255*test[index][2][:,:,6:]).astype(\"int\"))"
   ]
  }
 ],
 "metadata": {
  "kernelspec": {
   "display_name": "Python 3",
   "language": "python",
   "name": "python3"
  },
  "language_info": {
   "codemirror_mode": {
    "name": "ipython",
    "version": 3
   },
   "file_extension": ".py",
   "mimetype": "text/x-python",
   "name": "python",
   "nbconvert_exporter": "python",
   "pygments_lexer": "ipython3",
   "version": "3.7.4"
  }
 },
 "nbformat": 4,
 "nbformat_minor": 2
}
