{
 "cells": [
  {
   "cell_type": "code",
   "execution_count": 1,
   "metadata": {},
   "outputs": [],
   "source": [
    "import sys\n",
    "import os\n",
    "import cv2\n",
    "import pandas as pd\n",
    "import torch\n",
    "import torch.nn as nn\n",
    "import numpy as np\n",
    "import random\n",
    "import matplotlib.pyplot as plt\n",
    "from numpy import pi, matmul,sqrt,dot,array,zeros,cos,sin,pi,arccos\n",
    "from torch.utils.data import DataLoader\n",
    "from func import OR,heatplot,misorientation,classplot,ipfplot,ipfread,negsample\n",
    "from func2 import create_dataset\n",
    "from Class import Data,Cluster,Dataset,CNN49a,CNN49b\n",
    "import torch.nn.functional as F\n",
    "import matplotlib.patches as patches"
   ]
  },
  {
   "cell_type": "code",
   "execution_count": 2,
   "metadata": {
    "scrolled": true
   },
   "outputs": [
    {
     "ename": "KeyboardInterrupt",
     "evalue": "",
     "output_type": "error",
     "traceback": [
      "\u001b[1;31m---------------------------------------------------------------------------\u001b[0m",
      "\u001b[1;31mKeyboardInterrupt\u001b[0m                         Traceback (most recent call last)",
      "\u001b[1;32m<ipython-input-2-b2f10cec3abe>\u001b[0m in \u001b[0;36m<module>\u001b[1;34m\u001b[0m\n\u001b[0;32m      3\u001b[0m \u001b[1;33m\u001b[0m\u001b[0m\n\u001b[0;32m      4\u001b[0m \u001b[1;31m# X=create_dataset(\"data/train/\",feature=[\"Orient\",\"BC\",\"BS\",\"MAD\",\"Error\",\"Bands\",\"Phase\"],use_corner=0)\u001b[0m\u001b[1;33m\u001b[0m\u001b[1;33m\u001b[0m\u001b[1;33m\u001b[0m\u001b[0m\n\u001b[1;32m----> 5\u001b[1;33m \u001b[0mdata\u001b[0m\u001b[1;33m,\u001b[0m\u001b[0mpaths\u001b[0m\u001b[1;33m=\u001b[0m\u001b[0mcreate_dataset\u001b[0m\u001b[1;33m(\u001b[0m\u001b[1;34m\"data/train/\"\u001b[0m\u001b[1;33m,\u001b[0m\u001b[0mfeature\u001b[0m\u001b[1;33m=\u001b[0m\u001b[1;33m[\u001b[0m\u001b[1;34m\"BC\"\u001b[0m\u001b[1;33m,\u001b[0m\u001b[1;34m\"BS\"\u001b[0m\u001b[1;33m,\u001b[0m\u001b[1;34m\"MAD\"\u001b[0m\u001b[1;33m]\u001b[0m\u001b[1;33m,\u001b[0m\u001b[0muse_corner\u001b[0m\u001b[1;33m=\u001b[0m\u001b[1;36m0\u001b[0m\u001b[1;33m)\u001b[0m\u001b[1;33m\u001b[0m\u001b[1;33m\u001b[0m\u001b[0m\n\u001b[0m",
      "\u001b[1;32mE:\\github\\dp780\\func2.py\u001b[0m in \u001b[0;36mcreate_dataset\u001b[1;34m(root, feature, use_corner, pic_size, sam_size)\u001b[0m\n\u001b[0;32m     14\u001b[0m         \u001b[0mpath\u001b[0m\u001b[1;33m=\u001b[0m\u001b[0mroot\u001b[0m\u001b[1;33m+\u001b[0m\u001b[0mdate\u001b[0m\u001b[1;33m+\u001b[0m\u001b[1;34m\"/before/\"\u001b[0m\u001b[1;33m\u001b[0m\u001b[1;33m\u001b[0m\u001b[0m\n\u001b[0;32m     15\u001b[0m         \u001b[0mpaths\u001b[0m\u001b[1;33m.\u001b[0m\u001b[0mappend\u001b[0m\u001b[1;33m(\u001b[0m\u001b[0mpath\u001b[0m\u001b[1;33m)\u001b[0m\u001b[1;33m\u001b[0m\u001b[1;33m\u001b[0m\u001b[0m\n\u001b[1;32m---> 16\u001b[1;33m         \u001b[0mdata\u001b[0m\u001b[1;33m=\u001b[0m\u001b[0mData\u001b[0m\u001b[1;33m(\u001b[0m\u001b[0mpath\u001b[0m\u001b[1;33m)\u001b[0m\u001b[1;33m\u001b[0m\u001b[1;33m\u001b[0m\u001b[0m\n\u001b[0m\u001b[0;32m     17\u001b[0m         \u001b[0mdata\u001b[0m\u001b[1;33m.\u001b[0m\u001b[0mdata\u001b[0m\u001b[1;33m[\u001b[0m\u001b[1;34m\"Orient\"\u001b[0m\u001b[1;33m]\u001b[0m\u001b[1;33m=\u001b[0m\u001b[0mdata\u001b[0m\u001b[1;33m.\u001b[0m\u001b[0mdata\u001b[0m\u001b[1;33m[\u001b[0m\u001b[1;34m\"Orient\"\u001b[0m\u001b[1;33m]\u001b[0m\u001b[1;33m.\u001b[0m\u001b[0mreshape\u001b[0m\u001b[1;33m(\u001b[0m\u001b[0mdata\u001b[0m\u001b[1;33m.\u001b[0m\u001b[0mh\u001b[0m\u001b[1;33m,\u001b[0m\u001b[0mdata\u001b[0m\u001b[1;33m.\u001b[0m\u001b[0mw\u001b[0m\u001b[1;33m,\u001b[0m\u001b[1;33m-\u001b[0m\u001b[1;36m1\u001b[0m\u001b[1;33m)\u001b[0m\u001b[1;33m\u001b[0m\u001b[1;33m\u001b[0m\u001b[0m\n\u001b[0;32m     18\u001b[0m         \u001b[1;32mif\u001b[0m \u001b[1;32mnot\u001b[0m \u001b[0muse_corner\u001b[0m\u001b[1;33m:\u001b[0m\u001b[1;33m\u001b[0m\u001b[1;33m\u001b[0m\u001b[0m\n",
      "\u001b[1;32mE:\\github\\dp780\\Class.py\u001b[0m in \u001b[0;36m__init__\u001b[1;34m(self, path, crop)\u001b[0m\n\u001b[0;32m     39\u001b[0m         \u001b[1;32mfor\u001b[0m \u001b[0mi\u001b[0m \u001b[1;32min\u001b[0m \u001b[0mrange\u001b[0m\u001b[1;33m(\u001b[0m\u001b[0mh\u001b[0m\u001b[1;33m)\u001b[0m\u001b[1;33m:\u001b[0m\u001b[1;33m\u001b[0m\u001b[1;33m\u001b[0m\u001b[0m\n\u001b[0;32m     40\u001b[0m             \u001b[1;32mfor\u001b[0m \u001b[0mj\u001b[0m \u001b[1;32min\u001b[0m \u001b[0mrange\u001b[0m\u001b[1;33m(\u001b[0m\u001b[0mw\u001b[0m\u001b[1;33m)\u001b[0m\u001b[1;33m:\u001b[0m\u001b[1;33m\u001b[0m\u001b[1;33m\u001b[0m\u001b[0m\n\u001b[1;32m---> 41\u001b[1;33m                 \u001b[0morient\u001b[0m\u001b[1;33m[\u001b[0m\u001b[0mi\u001b[0m\u001b[1;33m,\u001b[0m\u001b[0mj\u001b[0m\u001b[1;33m]\u001b[0m\u001b[1;33m=\u001b[0m\u001b[0mOR\u001b[0m\u001b[1;33m(\u001b[0m\u001b[0mdata\u001b[0m\u001b[1;33m[\u001b[0m\u001b[0mi\u001b[0m\u001b[1;33m,\u001b[0m\u001b[0mj\u001b[0m\u001b[1;33m,\u001b[0m\u001b[1;33m:\u001b[0m\u001b[1;36m3\u001b[0m\u001b[1;33m]\u001b[0m\u001b[1;33m)\u001b[0m\u001b[1;33m\u001b[0m\u001b[1;33m\u001b[0m\u001b[0m\n\u001b[0m\u001b[0;32m     42\u001b[0m         \u001b[0mself\u001b[0m\u001b[1;33m.\u001b[0m\u001b[0mw\u001b[0m\u001b[1;33m,\u001b[0m\u001b[0mself\u001b[0m\u001b[1;33m.\u001b[0m\u001b[0mh\u001b[0m\u001b[1;33m=\u001b[0m\u001b[0mw\u001b[0m\u001b[1;33m,\u001b[0m\u001b[0mh\u001b[0m\u001b[1;33m\u001b[0m\u001b[1;33m\u001b[0m\u001b[0m\n\u001b[0;32m     43\u001b[0m         \u001b[0mself\u001b[0m\u001b[1;33m.\u001b[0m\u001b[0mdata\u001b[0m\u001b[1;33m=\u001b[0m\u001b[0mdict\u001b[0m\u001b[1;33m(\u001b[0m\u001b[1;33m)\u001b[0m\u001b[1;33m\u001b[0m\u001b[1;33m\u001b[0m\u001b[0m\n",
      "\u001b[1;31mKeyboardInterrupt\u001b[0m: "
     ]
    }
   ],
   "source": [
    "# train=create_dataset(\"data/train/\",feature=[\"Orient\",\"BC\",\"BS\"])\n",
    "# test=create_dataset(\"data/test/\",feature=[\"Orient\",\"BC\",\"BS\"])\n",
    "\n",
    "# X=create_dataset(\"data/train/\",feature=[\"Orient\",\"BC\",\"BS\",\"MAD\",\"Error\",\"Bands\",\"Phase\"],use_corner=0)\n",
    "data,paths=create_dataset(\"data/train/\",feature=[\"BC\",\"BS\",\"MAD\"],use_corner=0)"
   ]
  },
  {
   "cell_type": "code",
   "execution_count": 2,
   "metadata": {},
   "outputs": [
    {
     "name": "stderr",
     "output_type": "stream",
     "text": [
      "C:\\ProgramData\\Anaconda3\\lib\\site-packages\\torch\\serialization.py:493: SourceChangeWarning: source code of class 'torch.nn.modules.batchnorm.BatchNorm2d' has changed. you can retrieve the original source code by accessing the object's source attribute or set `torch.nn.Module.dump_patches = True` and use the patch tool to revert the changes.\n",
      "  warnings.warn(msg, SourceChangeWarning)\n",
      "C:\\ProgramData\\Anaconda3\\lib\\site-packages\\torch\\serialization.py:493: SourceChangeWarning: source code of class 'torch.nn.modules.activation.ReLU' has changed. you can retrieve the original source code by accessing the object's source attribute or set `torch.nn.Module.dump_patches = True` and use the patch tool to revert the changes.\n",
      "  warnings.warn(msg, SourceChangeWarning)\n",
      "C:\\ProgramData\\Anaconda3\\lib\\site-packages\\torch\\serialization.py:493: SourceChangeWarning: source code of class 'torch.nn.modules.pooling.MaxPool2d' has changed. you can retrieve the original source code by accessing the object's source attribute or set `torch.nn.Module.dump_patches = True` and use the patch tool to revert the changes.\n",
      "  warnings.warn(msg, SourceChangeWarning)\n",
      "C:\\ProgramData\\Anaconda3\\lib\\site-packages\\torch\\serialization.py:493: SourceChangeWarning: source code of class 'torch.nn.modules.conv.Conv2d' has changed. you can retrieve the original source code by accessing the object's source attribute or set `torch.nn.Module.dump_patches = True` and use the patch tool to revert the changes.\n",
      "  warnings.warn(msg, SourceChangeWarning)\n",
      "C:\\ProgramData\\Anaconda3\\lib\\site-packages\\torch\\serialization.py:493: SourceChangeWarning: source code of class 'torch.nn.modules.linear.Linear' has changed. you can retrieve the original source code by accessing the object's source attribute or set `torch.nn.Module.dump_patches = True` and use the patch tool to revert the changes.\n",
      "  warnings.warn(msg, SourceChangeWarning)\n",
      "C:\\ProgramData\\Anaconda3\\lib\\site-packages\\torch\\serialization.py:493: SourceChangeWarning: source code of class 'torch.nn.modules.activation.Softmax' has changed. you can retrieve the original source code by accessing the object's source attribute or set `torch.nn.Module.dump_patches = True` and use the patch tool to revert the changes.\n",
      "  warnings.warn(msg, SourceChangeWarning)\n"
     ]
    },
    {
     "data": {
      "text/plain": [
       "CNN49b(\n",
       "  (batchnorm): BatchNorm2d(3, eps=1e-05, momentum=0.1, affine=True, track_running_stats=True)\n",
       "  (relu): ReLU()\n",
       "  (maxpool): MaxPool2d(kernel_size=2, stride=2, padding=0, dilation=1, ceil_mode=False)\n",
       "  (cnn1): Conv2d(3, 12, kernel_size=(4, 4), stride=(1, 1))\n",
       "  (cnn2): Conv2d(12, 18, kernel_size=(4, 4), stride=(1, 1))\n",
       "  (cnn3): Conv2d(18, 24, kernel_size=(3, 3), stride=(1, 1))\n",
       "  (fc1): Linear(in_features=384, out_features=2, bias=True)\n",
       "  (softmax): Softmax(dim=1)\n",
       ")"
      ]
     },
     "execution_count": 2,
     "metadata": {},
     "output_type": "execute_result"
    }
   ],
   "source": [
    "m1 = torch.load(\"model/0.892_CNN49b_BC_BS_MAD.pkl\")\n",
    "m1.eval()"
   ]
  },
  {
   "cell_type": "code",
   "execution_count": 49,
   "metadata": {
    "scrolled": true
   },
   "outputs": [],
   "source": [
    "# h=w=499\n",
    "# ks=49\n",
    "# num=data.shape[0]\n",
    "# pred=np.zeros([data.shape[0],h-ks+1,w-ks+1])\n",
    "# for i in range(h-ks+1):\n",
    "#     for j in range(w-ks+1):\n",
    "#         output=m1(data[:,:,i:i+ks,j:j+ks])\n",
    "#         for k in range(num):\n",
    "#             pred[k,i,j]+=output[k,0].item()\n",
    "#         del output\n",
    "                "
   ]
  },
  {
   "cell_type": "code",
   "execution_count": null,
   "metadata": {},
   "outputs": [],
   "source": []
  },
  {
   "cell_type": "code",
   "execution_count": 3,
   "metadata": {},
   "outputs": [
    {
     "name": "stderr",
     "output_type": "stream",
     "text": [
      "C:\\ProgramData\\Anaconda3\\lib\\site-packages\\ipykernel_launcher.py:17: RuntimeWarning: invalid value encountered in true_divide\n"
     ]
    },
    {
     "name": "stdout",
     "output_type": "stream",
     "text": [
      "[nan nan]\n"
     ]
    }
   ],
   "source": [
    "prob=np.zeros([2]) #ferrite,martensite\n",
    "pixels=np.zeros([2])        \n",
    "for mode in [\"train\",\"test\"]:\n",
    "    pred=torch.load(\"output/\"+mode+\"_pred.pkl\")\n",
    "    for ind,date in enumerate(sorted(os.listdir(\"data/\"+mode+\"/\"))):\n",
    "        class_map,id2clus,ma_id=torch.load(\"data/\"+mode+\"/\"+date+\"/before/cluster.pkl\")\n",
    "        break\n",
    "        pad=24\n",
    "        for i in range(h-ks+1):\n",
    "            for j in range(w-ks+1):\n",
    "                if class_map[pad+i,pad+j] in ma_id:\n",
    "                    prob[1]+=pred[ind,i,j]\n",
    "                    pixels[1]+=1\n",
    "                else:\n",
    "                    prob[0]+=pred[ind,i,j]\n",
    "                    pixels[0]+=1\n",
    "print(prob/pixels)\n",
    "        "
   ]
  },
  {
   "cell_type": "code",
   "execution_count": 39,
   "metadata": {},
   "outputs": [],
   "source": [
    "#0 ferrite in ferrite\n",
    "#1 ferrite in ferrite bd\n",
    "#2 ferrite in martensite bd\n",
    "#3 martensite in martensite\n",
    "#4 martensite in ferrite bd\n",
    "h=w=499\n",
    "ks=49\n",
    "num=pred.shape[0]\n",
    "prob=np.zeros([5]) #ferrite,martensite\n",
    "pixels=np.zeros([5])        \n",
    "pad=24\n",
    "neigh=np.array([[1,0],[-1,0],[0,1],[0,-1]])\n",
    "for mode in [\"train\",\"test\"]:\n",
    "    pred=torch.load(\"output/\"+mode+\"_pred.pkl\")\n",
    "    for ind,date in enumerate(sorted(os.listdir(\"data/\"+mode+\"/\"))):\n",
    "        class_map,id2clus,ma_id=torch.load(\"data/\"+mode+\"/\"+date+\"/before/cluster.pkl\")\n",
    "        for i in range(h-ks+1):\n",
    "            for j in range(w-ks+1):\n",
    "                types=[]\n",
    "                if class_map[pad+i,pad+j] in ma_id:\n",
    "                    for (n0,n1) in neigh:\n",
    "                        if class_map[pad+i+n0,pad+j+n1] in ma_id:\n",
    "                            types.append(3)\n",
    "                        else:\n",
    "                            types.append(4)\n",
    "                else:\n",
    "                    for (n0,n1) in neigh:\n",
    "                        if class_map[pad+i+n0,pad+j+n1] in ma_id:\n",
    "                            types.append(2)\n",
    "                        else:\n",
    "                            if class_map[pad+i+n0,pad+j+n1]==class_map[pad+i,pad+j]:\n",
    "                                types.append(0)\n",
    "                            else:\n",
    "                                types.append(1)\n",
    "                for ele in types:\n",
    "                    prob[ele]+=pred[ind,i,j]\n",
    "                    pixels[ele]+=1\n",
    "\n"
   ]
  },
  {
   "cell_type": "code",
   "execution_count": 40,
   "metadata": {},
   "outputs": [],
   "source": [
    "# output=torch.load(\"output/test_map.pkl\")\n",
    "# torch.save(new_map_2,\"output/test_map.pkl\")\n",
    "pd.DataFrame(np.array([prob.tolist(),pixels.tolist()]),columns=[\"f in f\",\"f in fbd\",\"f in mbd\",\"m in m\",\"m in fbd\"]).to_excel(\"output/edge_analysis.xlsx\")"
   ]
  },
  {
   "cell_type": "code",
   "execution_count": 41,
   "metadata": {},
   "outputs": [],
   "source": [
    "#0 ferrite in ferrite\n",
    "#1 ferrite in ferrite bd\n",
    "#2 ferrite in martensite bd\n",
    "#3 ferrite in martensite bd and ferrite bd\n",
    "#4 martensite in martensite\n",
    "#5 martensite in ferrite bd\n",
    "h=w=499\n",
    "ks=49\n",
    "num=pred.shape[0]\n",
    "prob=np.zeros([6]) #ferrite,martensite\n",
    "pixels=np.zeros([6])        \n",
    "pad=24\n",
    "neigh=np.array([[1,0],[-1,0],[0,1],[0,-1]])\n",
    "for mode in [\"train\",\"test\"]:\n",
    "    pred=torch.load(\"output/\"+mode+\"_pred.pkl\")\n",
    "    for ind,date in enumerate(sorted(os.listdir(\"data/\"+mode+\"/\"))):\n",
    "        class_map,id2clus,ma_id=torch.load(\"data/\"+mode+\"/\"+date+\"/before/cluster.pkl\")\n",
    "        for i in range(h-ks+1):\n",
    "            for j in range(w-ks+1):\n",
    "                types=[]\n",
    "                if class_map[pad+i,pad+j] in ma_id:\n",
    "                    for (n0,n1) in neigh:\n",
    "                        if class_map[pad+i+n0,pad+j+n1] in ma_id:\n",
    "                            types.append(4)\n",
    "                        else:\n",
    "                            types.append(5)\n",
    "                    if 5 in types:\n",
    "                        prob[5]+=pred[ind,i,j]\n",
    "                        pixels[5]+=1\n",
    "                    else:\n",
    "                        prob[4]+=pred[ind,i,j]\n",
    "                        pixels[4]+=1\n",
    "                else:\n",
    "                    for (n0,n1) in neigh:\n",
    "                        if class_map[pad+i+n0,pad+j+n1] in ma_id:\n",
    "                            types.append(2)\n",
    "                        else:\n",
    "                            if class_map[pad+i+n0,pad+j+n1]==class_map[pad+i,pad+j]:\n",
    "                                types.append(0)\n",
    "                            else:\n",
    "                                types.append(1)\n",
    "                    if 1 in types and 2 in types:\n",
    "                        prob[3]+=pred[ind,i,j]\n",
    "                        pixels[3]+=1\n",
    "                    elif 1 in types:\n",
    "                        prob[1]+=pred[ind,i,j]\n",
    "                        pixels[1]+=1\n",
    "                    elif 2 in types:\n",
    "                        prob[2]+=pred[ind,i,j]\n",
    "                        pixels[2]+=1\n",
    "                    else:\n",
    "                        prob[0]+=pred[ind,i,j]\n",
    "                        pixels[0]+=1\n",
    "                        \n",
    "\n"
   ]
  },
  {
   "cell_type": "code",
   "execution_count": 45,
   "metadata": {},
   "outputs": [],
   "source": [
    "pd.DataFrame(np.array([prob.tolist(),pixels.tolist()]),columns=[\"f in f\",\"f in fbd\",\"f in mbd\",\"f in fmbd\",\"m in m\",\"m in fbd\"]).to_excel(\"output/pixel_analysis.xlsx\")"
   ]
  },
  {
   "cell_type": "code",
   "execution_count": 11,
   "metadata": {},
   "outputs": [
    {
     "data": {
      "text/plain": [
       "True"
      ]
     },
     "execution_count": 11,
     "metadata": {},
     "output_type": "execute_result"
    }
   ],
   "source": [
    "# plt.imshow(output[1],cmap=\"gray\")\n",
    "# plt.axis(\"off\")\n",
    "# plt.show()\n",
    "# plt.imshow(new_map[1],cmap=\"gray\")\n",
    "# plt.savefig(\"output/20201109_451451.png\",bbox_inches='tight',pad_inches=0,dpi=600)\n",
    "plt.savefig(\"output/20201109_451451_2.png\",bbox_inches='tight',pad_inches=0,dpi=600)\n",
    "cv2.imwrite(\"output/20201109_451451.png\",output[1]*255)\n",
    "cv2.imwrite(\"output/20201109_451451_inv.png\",(1-output[1])*255)"
   ]
  },
  {
   "cell_type": "code",
   "execution_count": 12,
   "metadata": {},
   "outputs": [
    {
     "data": {
      "image/png": "[encoded data removed]",
      "text/plain": [
       "<Figure size 432x288 with 1 Axes>"
      ]
     },
     "metadata": {
      "needs_background": "light"
     },
     "output_type": "display_data"
    },
    {
     "data": {
      "text/plain": [
       "True"
      ]
     },
     "execution_count": 12,
     "metadata": {},
     "output_type": "execute_result"
    }
   ],
   "source": [
    "sum_map=output\n",
    "date=\"20201109\"\n",
    "class_map,id2clus,ma_id=torch.load(\"data/test/\"+date+\"/before/cluster.pkl\")\n",
    "class_img=classplot(class_map)[24:475,24:475,:]\n",
    "ipf=ipfread(\"data/test/20201109/before/\")[24:475,24:475,6:]\n",
    "cv2.imwrite(\"output/20201109_class.png\",class_img)\n",
    "cv2.imwrite(\"output/20201109_ipf_b.png\",ipf)\n",
    "for i in range(3):\n",
    "    ipf[:,:,i]=np.multiply(1-sum_map[1],ipf[:,:,i])\n",
    "    class_img[:,:,i]=np.multiply(1-sum_map[1],class_img[:,:,i])\n",
    "cv2.imwrite(\"output/20201109_ipf_d.png\",ipf)\n",
    "cv2.imwrite(\"output/20201109_class_d.png\",class_img)\n",
    "\n",
    "# plt.imshow(1-new_map[0],cmap=\"gray\")\n",
    "# plt.imshow(ipf[:,:,6:][...,[2,1,0]].astype(\"int\"),alpha=0.5)\n",
    "# plt.axis('off')\n"
   ]
  },
  {
   "cell_type": "code",
   "execution_count": null,
   "metadata": {},
   "outputs": [],
   "source": []
  },
  {
   "cell_type": "code",
   "execution_count": null,
   "metadata": {},
   "outputs": [],
   "source": []
  }
 ],
 "metadata": {
  "kernelspec": {
   "display_name": "Python 3",
   "language": "python",
   "name": "python3"
  },
  "language_info": {
   "codemirror_mode": {
    "name": "ipython",
    "version": 3
   },
   "file_extension": ".py",
   "mimetype": "text/x-python",
   "name": "python",
   "nbconvert_exporter": "python",
   "pygments_lexer": "ipython3",
   "version": "3.7.4"
  }
 },
 "nbformat": 4,
 "nbformat_minor": 2
}
