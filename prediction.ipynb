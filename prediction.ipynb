{
 "cells": [
  {
   "cell_type": "code",
   "execution_count": 28,
   "metadata": {},
   "outputs": [],
   "source": [
    "import sys\n",
    "import os\n",
    "import cv2\n",
    "import pandas as pd\n",
    "import torch\n",
    "import torch.nn as nn\n",
    "import numpy as np\n",
    "import random\n",
    "import matplotlib.pyplot as plt\n",
    "from numpy import pi, matmul,sqrt,dot,array,zeros,cos,sin,pi,arccos\n",
    "from torch.utils.data import DataLoader\n",
    "from func import OR,heatplot,misorientation,classplot,ipfplot,ipfread,negsample,find_neigh,quaternion\n",
    "from func2 import create_dataset\n",
    "from Class import Data,Cluster,Dataset,CNN49ag,CNN49bg\n",
    "import torch.nn.functional as F\n",
    "import matplotlib.patches as patches\n",
    "def parse(subject,src):\n",
    "    output=dict()\n",
    "    for i in range(len(src)):\n",
    "        steel=src[i].split(\"/\")[1]\n",
    "        if steel not in output:\n",
    "            output[steel]=subject[i]\n",
    "        else:\n",
    "            output[steel]+=subject[i]\n",
    "    return output\n"
   ]
  },
  {
   "cell_type": "code",
   "execution_count": 2,
   "metadata": {
    "scrolled": true
   },
   "outputs": [
    {
     "name": "stderr",
     "output_type": "stream",
     "text": [
      "C:\\ProgramData\\Anaconda3\\lib\\site-packages\\torch\\serialization.py:493: SourceChangeWarning: source code of class 'Class.CNN49bg' has changed. you can retrieve the original source code by accessing the object's source attribute or set `torch.nn.Module.dump_patches = True` and use the patch tool to revert the changes.\n",
      "  warnings.warn(msg, SourceChangeWarning)\n",
      "C:\\ProgramData\\Anaconda3\\lib\\site-packages\\torch\\serialization.py:493: SourceChangeWarning: source code of class 'torch.nn.modules.batchnorm.BatchNorm2d' has changed. you can retrieve the original source code by accessing the object's source attribute or set `torch.nn.Module.dump_patches = True` and use the patch tool to revert the changes.\n",
      "  warnings.warn(msg, SourceChangeWarning)\n",
      "C:\\ProgramData\\Anaconda3\\lib\\site-packages\\torch\\serialization.py:493: SourceChangeWarning: source code of class 'torch.nn.modules.activation.ReLU' has changed. you can retrieve the original source code by accessing the object's source attribute or set `torch.nn.Module.dump_patches = True` and use the patch tool to revert the changes.\n",
      "  warnings.warn(msg, SourceChangeWarning)\n",
      "C:\\ProgramData\\Anaconda3\\lib\\site-packages\\torch\\serialization.py:493: SourceChangeWarning: source code of class 'torch.nn.modules.pooling.MaxPool2d' has changed. you can retrieve the original source code by accessing the object's source attribute or set `torch.nn.Module.dump_patches = True` and use the patch tool to revert the changes.\n",
      "  warnings.warn(msg, SourceChangeWarning)\n",
      "C:\\ProgramData\\Anaconda3\\lib\\site-packages\\torch\\serialization.py:493: SourceChangeWarning: source code of class 'torch.nn.modules.conv.Conv2d' has changed. you can retrieve the original source code by accessing the object's source attribute or set `torch.nn.Module.dump_patches = True` and use the patch tool to revert the changes.\n",
      "  warnings.warn(msg, SourceChangeWarning)\n",
      "C:\\ProgramData\\Anaconda3\\lib\\site-packages\\torch\\serialization.py:493: SourceChangeWarning: source code of class 'torch.nn.modules.linear.Linear' has changed. you can retrieve the original source code by accessing the object's source attribute or set `torch.nn.Module.dump_patches = True` and use the patch tool to revert the changes.\n",
      "  warnings.warn(msg, SourceChangeWarning)\n",
      "C:\\ProgramData\\Anaconda3\\lib\\site-packages\\torch\\serialization.py:493: SourceChangeWarning: source code of class 'torch.nn.modules.activation.Softmax' has changed. you can retrieve the original source code by accessing the object's source attribute or set `torch.nn.Module.dump_patches = True` and use the patch tool to revert the changes.\n",
      "  warnings.warn(msg, SourceChangeWarning)\n"
     ]
    },
    {
     "data": {
      "text/plain": [
       "CNN49bg(\n",
       "  (batchnorm): BatchNorm2d(7, eps=1e-05, momentum=0.1, affine=True, track_running_stats=True)\n",
       "  (relu): ReLU()\n",
       "  (maxpool): MaxPool2d(kernel_size=2, stride=2, padding=0, dilation=1, ceil_mode=False)\n",
       "  (cnn1): Conv2d(7, 12, kernel_size=(4, 4), stride=(1, 1))\n",
       "  (cnn2): Conv2d(12, 18, kernel_size=(4, 4), stride=(1, 1))\n",
       "  (cnn3): Conv2d(18, 24, kernel_size=(3, 3), stride=(1, 1))\n",
       "  (fc1): Linear(in_features=400, out_features=2, bias=True)\n",
       "  (softmax): Softmax(dim=1)\n",
       ")"
      ]
     },
     "execution_count": 2,
     "metadata": {},
     "output_type": "execute_result"
    }
   ],
   "source": [
    "model_path=\"model/CNN_49g_all/0.815_CNN49bg_Phase_BC_Error_Quaternion.pkl\"\n",
    "model_name=model_path.split(\"/\")[-1].replace(\".pkl\",\"\")\n",
    "feature=model_path.replace(\".pkl\",\"\").split(\"/\")[-1].split(\"_\")[2:]\n",
    "header=['ND面硬度(Hv)', 'TD面硬度(Hv)', 'UTS strain(%)', 'UTS stress(MPa)','Total Elongation(%)', 'E(GPa)', 'Ys(Mpa)']\n",
    "prop_dic=torch.load(\"data/properties.pkl\")\n",
    "h=w=499\n",
    "ks=49\n",
    "m1 = torch.load(model_path)\n",
    "m1.eval()"
   ]
  },
  {
   "cell_type": "code",
   "execution_count": 3,
   "metadata": {
    "scrolled": true
   },
   "outputs": [],
   "source": [
    "try:\n",
    "    data,props,src=torch.load(\"data/\"+model_name+\"/data.pkl\")\n",
    "except:\n",
    "    train=create_dataset(\"train\",steels=[\"590\",\"780\",\"980\"],feature=feature,prop_dic=prop_dic,pic_size=h,\n",
    "                     sam_size=ks,prediction=1)\n",
    "    val=create_dataset(\"val\",steels=[\"590\",\"780\",\"980\"],feature=feature,prop_dic=prop_dic,pic_size=h,\n",
    "                         sam_size=ks,prediction=1)\n",
    "    test=create_dataset(\"test\",steels=[\"590\",\"780\",\"980\"],feature=feature,prop_dic=prop_dic,pic_size=h,\n",
    "                         sam_size=ks,prediction=1)\n",
    "    data=torch.cat([train[0],val[0],test[0]])\n",
    "    props=torch.cat([train[1],val[1],test[1]])\n",
    "    src=train[2]+val[2]+test[2]\n",
    "    os.mkdir(\"data/\"+model_name)\n",
    "    torch.save([data,props,src],\"data/\"+model_name+\"/data.pkl\")\n",
    "num=data.shape[0]\n",
    "try:\n",
    "    pred=torch.load(\"data/\"+model_name+\"/pred.pkl\")\n",
    "except:\n",
    "    data=data.cuda()\n",
    "    props=props.cuda()\n",
    "    pred=np.zeros([data.shape[0],h-ks+1,w-ks+1])\n",
    "    for i in range(h-ks+1):\n",
    "        for j in range(w-ks+1):\n",
    "            output=m1(data[:,:,i:i+ks,j:j+ks],props)\n",
    "            for k in range(num):\n",
    "                pred[k,i,j]+=output[k,0].detach().item()\n",
    "            del output\n",
    "    torch.save(pred,\"data/\"+model_name+\"/pred.pkl\")\n"
   ]
  },
  {
   "cell_type": "code",
   "execution_count": 217,
   "metadata": {},
   "outputs": [],
   "source": [
    "#ferrite,martensite\n",
    "prob=np.zeros([num,2]) \n",
    "pixels=np.zeros([num,2])        \n",
    "for ite,path in enumerate(src):\n",
    "    class_map,id2clus,ma_id=torch.load(path+\"cluster.pkl\")\n",
    "    pad=24\n",
    "    for i in range(h-ks+1):\n",
    "        for j in range(w-ks+1):\n",
    "            if class_map[pad+i,pad+j] in ma_id:\n",
    "                prob[ite,1]+=pred[ite,i,j]\n",
    "                pixels[ite,1]+=1\n",
    "            else:\n",
    "                prob[ite,0]+=pred[ite,i,j]\n",
    "                pixels[ite,0]+=1\n",
    "# print(prob/pixels)\n",
    "        "
   ]
  },
  {
   "cell_type": "code",
   "execution_count": 218,
   "metadata": {},
   "outputs": [],
   "source": [
    "prob=parse(prob,src)\n",
    "pixels=parse(pixels,src)\n",
    "result=dict()\n",
    "for key in list(prob.keys()):\n",
    "    result[key]=prob[key]/pixels[key]\n",
    "with pd.ExcelWriter('output/MF.xlsx') as writer: \n",
    "    pd.DataFrame(prob).to_excel(writer,sheet_name='prob', index=False, header=True,float_format='%d')\n",
    "    pd.DataFrame(pixels).to_excel(writer,sheet_name='pixels', index=False, header=True,float_format='%d')\n",
    "    pd.DataFrame(result).to_excel(writer,sheet_name='result', index=False, header=True,float_format='%.3f')\n",
    "    "
   ]
  },
  {
   "cell_type": "code",
   "execution_count": 184,
   "metadata": {},
   "outputs": [],
   "source": [
    "#0 ferrite in ferrite\n",
    "#1 ferrite in ferrite bd\n",
    "#2 ferrite in martensite bd\n",
    "#3 martensite in martensite\n",
    "#4 martensite in ferrite bd\n",
    "\n",
    "prob=np.zeros([num,5]) #ferrite,martensite\n",
    "pixels=np.zeros([num,5])        \n",
    "pad=24\n",
    "neigh=np.array([[1,0],[-1,0],[0,1],[0,-1]])\n",
    "for ind,path in enumerate(src):\n",
    "    class_map,id2clus,ma_id=torch.load(path+\"cluster.pkl\")\n",
    "    for i in range(h-ks+1):\n",
    "        for j in range(w-ks+1):\n",
    "            types=[]\n",
    "            if class_map[pad+i,pad+j] in ma_id:\n",
    "                for (n0,n1) in neigh:\n",
    "                    if class_map[pad+i+n0,pad+j+n1] in ma_id:\n",
    "                        types.append(3)\n",
    "                    else:\n",
    "                        types.append(4)\n",
    "            else:\n",
    "                for (n0,n1) in neigh:\n",
    "                    if class_map[pad+i+n0,pad+j+n1] in ma_id:\n",
    "                        types.append(2)\n",
    "                    else:\n",
    "                        if class_map[pad+i+n0,pad+j+n1]==class_map[pad+i,pad+j]:\n",
    "                            types.append(0)\n",
    "                        else:\n",
    "                            types.append(1)\n",
    "            for ele in types:\n",
    "                prob[ind,ele]+=pred[ind,i,j]\n",
    "                pixels[ind,ele]+=1\n",
    "\n"
   ]
  },
  {
   "cell_type": "code",
   "execution_count": 185,
   "metadata": {},
   "outputs": [],
   "source": [
    "prob=parse(prob,src)\n",
    "pixels=parse(pixels,src)\n",
    "result=dict()\n",
    "for key in list(prob.keys()):\n",
    "    result[key]=prob[key]/pixels[key]\n",
    "with pd.ExcelWriter('output/MFedge.xlsx') as writer: \n",
    "    pd.DataFrame(prob).to_excel(writer,sheet_name='prob', index=False, header=True,float_format='%d')\n",
    "    pd.DataFrame(pixels).to_excel(writer,sheet_name='pixels', index=False, header=True,float_format='%d')\n",
    "    pd.DataFrame(result).to_excel(writer,sheet_name='result', index=False, header=True,float_format='%.3f')\n"
   ]
  },
  {
   "cell_type": "code",
   "execution_count": null,
   "metadata": {},
   "outputs": [],
   "source": []
  },
  {
   "cell_type": "code",
   "execution_count": 40,
   "metadata": {},
   "outputs": [],
   "source": [
    "# output=torch.load(\"output/test_map.pkl\")\n",
    "# torch.save(new_map_2,\"output/test_map.pkl\")\n",
    "# pd.DataFrame(np.array([prob.tolist(),pixels.tolist()]),columns=[\"f in f\",\"f in fbd\",\"f in mbd\",\"m in m\",\"m in fbd\"]).to_excel(\"output/edge_analysis.xlsx\")"
   ]
  },
  {
   "cell_type": "code",
   "execution_count": 186,
   "metadata": {},
   "outputs": [],
   "source": [
    "#0 ferrite in ferrite\n",
    "#1 ferrite in ferrite bd\n",
    "#2 ferrite in martensite bd\n",
    "#3 ferrite in martensite bd and ferrite bd\n",
    "#4 martensite in martensite\n",
    "#5 martensite in ferrite bd\n",
    "prob=np.zeros([num,6]) #ferrite,martensite\n",
    "pixels=np.zeros([num,6])        \n",
    "neigh=np.array([[1,0],[-1,0],[0,1],[0,-1]])\n",
    "for ind,path in enumerate(src):\n",
    "    class_map,id2clus,ma_id=torch.load(path+\"cluster.pkl\")\n",
    "    for i in range(h-ks+1):\n",
    "        for j in range(w-ks+1):\n",
    "            types=[]\n",
    "            if class_map[pad+i,pad+j] in ma_id:\n",
    "                for (n0,n1) in neigh:\n",
    "                    if class_map[pad+i+n0,pad+j+n1] in ma_id:\n",
    "                        types.append(4)\n",
    "                    else:\n",
    "                        types.append(5)\n",
    "                if 5 in types:\n",
    "                    prob[ind,5]+=pred[ind,i,j]\n",
    "                    pixels[ind,5]+=1\n",
    "                else:\n",
    "                    prob[ind,4]+=pred[ind,i,j]\n",
    "                    pixels[ind,4]+=1\n",
    "            else:\n",
    "                for (n0,n1) in neigh:\n",
    "                    if class_map[pad+i+n0,pad+j+n1] in ma_id:\n",
    "                        types.append(2)\n",
    "                    else:\n",
    "                        if class_map[pad+i+n0,pad+j+n1]==class_map[pad+i,pad+j]:\n",
    "                            types.append(0)\n",
    "                        else:\n",
    "                            types.append(1)\n",
    "                if 1 in types and 2 in types:\n",
    "                    prob[ind,3]+=pred[ind,i,j]\n",
    "                    pixels[ind,3]+=1\n",
    "                elif 1 in types:\n",
    "                    prob[ind,1]+=pred[ind,i,j]\n",
    "                    pixels[ind,1]+=1\n",
    "                elif 2 in types:\n",
    "                    prob[ind,2]+=pred[ind,i,j]\n",
    "                    pixels[ind,2]+=1\n",
    "                else:\n",
    "                    prob[ind,0]+=pred[ind,i,j]\n",
    "                    pixels[ind,0]+=1\n",
    "\n",
    "\n"
   ]
  },
  {
   "cell_type": "code",
   "execution_count": 187,
   "metadata": {},
   "outputs": [],
   "source": [
    "prob=parse(prob,src)\n",
    "pixels=parse(pixels,src)\n",
    "result=dict()\n",
    "for key in list(prob.keys()):\n",
    "    result[key]=prob[key]/pixels[key]\n",
    "with pd.ExcelWriter('output/MFcenterpixel.xlsx') as writer: \n",
    "    pd.DataFrame(prob).to_excel(writer,sheet_name='prob', index=False, header=True,float_format='%d')\n",
    "    pd.DataFrame(pixels).to_excel(writer,sheet_name='pixels', index=False, header=True,float_format='%d')\n",
    "    pd.DataFrame(result).to_excel(writer,sheet_name='result', index=False, header=True,float_format='%.3f')\n"
   ]
  },
  {
   "cell_type": "code",
   "execution_count": 118,
   "metadata": {},
   "outputs": [
    {
     "data": {
      "image/png": "[encoded data removed]",
      "text/plain": [
       "<Figure size 432x288 with 1 Axes>"
      ]
     },
     "metadata": {
      "needs_background": "light"
     },
     "output_type": "display_data"
    },
    {
     "data": {
      "text/plain": [
       "True"
      ]
     },
     "execution_count": 118,
     "metadata": {},
     "output_type": "execute_result"
    }
   ],
   "source": [
    "index=-1\n",
    "sum_map=pred[index]\n",
    "cv2.imwrite(\"output/20201109_451451.png\",sum_map*255)\n",
    "cv2.imwrite(\"output/20201109_451451_inv.png\",(1-sum_map)*255)\n",
    "class_map,id2clus,ma_id=torch.load(src[index]+\"cluster.pkl\")\n",
    "class_img=classplot(class_map)[24:475,24:475,:]\n",
    "ipf=ipfread(src[index])[24:475,24:475,6:]\n",
    "cv2.imwrite(\"output/20201109_class.png\",class_img)\n",
    "cv2.imwrite(\"output/20201109_ipf_b.png\",ipf)\n",
    "for i in range(3):\n",
    "    ipf[:,:,i]=np.multiply(1-sum_map,ipf[:,:,i])\n",
    "    class_img[:,:,i]=np.multiply(1-sum_map,class_img[:,:,i])\n",
    "cv2.imwrite(\"output/20201109_ipf_d.png\",ipf)\n",
    "cv2.imwrite(\"output/20201109_class_d.png\",class_img)\n",
    "\n"
   ]
  },
  {
   "cell_type": "code",
   "execution_count": 7,
   "metadata": {},
   "outputs": [],
   "source": [
    "crack_prop=[]\n",
    "index=-2\n",
    "ipf=ipfread(src[index])[24:475,24:475,6:]\n",
    "cracks=dict()\n",
    "outmap=np.zeros([h-ks+1,w-ks+1])\n",
    "ite=1\n",
    "for i in range(h-ks+1):\n",
    "    for j in range(w-ks+1):\n",
    "        if pred[index,i,j]>0.95:\n",
    "            cracks[ite]=Cluster(ite,i,j)\n",
    "            outmap[i,j]=1\n",
    "            ite+=1\n",
    "crack_prop.append(outmap)\n",
    "cv2.imwrite(\"output/20211109_crack_prop/binary/%.2f.png\"%(0),outmap*255)\n",
    "ipf_cur=ipf.copy()\n",
    "for i in range(3):\n",
    "    ipf_cur[:,:,i]=np.multiply(1-outmap,ipf[:,:,i])\n",
    "cv2.imwrite(\"output/20211109_crack_prop/IPFZ/%.2f.png\"%(0),ipf_cur)\n",
    "for thres in np.arange(0.01,0.06,0.01):\n",
    "    for key in list(cracks.keys()):\n",
    "        to_travel=cracks[key].pixels.copy()\n",
    "        while len(to_travel)>0:\n",
    "            i,j=to_travel.pop()\n",
    "            cracks[key].add(i,j)\n",
    "            for m,n in find_neigh((i,j),h-ks+1,w-ks+1):\n",
    "                if pred[index,m,n]>pred[index,i,j]-thres:\n",
    "                    if (m,n) not in cracks[key].pixels:\n",
    "                        to_travel.add((m,n))\n",
    "    outmap=np.zeros([h-ks+1,w-ks+1])\n",
    "    for key in list(cracks.keys()):\n",
    "        to_travel=cracks[key].pixels.copy()\n",
    "        while len(to_travel)>0:\n",
    "            i,j=to_travel.pop()\n",
    "            outmap[i,j]=1\n",
    "    crack_prop.append(outmap)\n",
    "    cv2.imwrite(\"output/20211109_crack_prop/binary/%.2f.png\"%(thres),outmap*255)\n",
    "    ipf_cur=ipf.copy()\n",
    "    for i in range(3):\n",
    "        ipf_cur[:,:,i]=np.multiply(1-outmap,ipf[:,:,i])\n",
    "    cv2.imwrite(\"output/20211109_crack_prop/IPFZ/%.2f.png\"%(thres),ipf_cur)\n",
    "\n",
    "    "
   ]
  },
  {
   "cell_type": "code",
   "execution_count": 223,
   "metadata": {},
   "outputs": [],
   "source": [
    "interval=np.arange(0.9,1.001,0.001)\n",
    "num_phase=np.zeros([len(src),len(interval),2]) #ferrite,martensite\n",
    "pixels=np.zeros([len(src),2])\n",
    "for ind,path in enumerate(src):\n",
    "    class_map,id2clus,ma_id=torch.load(path+\"cluster.pkl\")\n",
    "    cur_map=pred[ind]\n",
    "    for i in range(h-ks+1):\n",
    "        for j in range(w-ks+1):\n",
    "            if class_map[pad+i,pad+j] in ma_id:\n",
    "                pixels[ind,1]+=1\n",
    "            else:\n",
    "                pixels[ind,0]+=1\n",
    "    for ite,ele in enumerate(interval):\n",
    "        for i in range(h-ks+1):\n",
    "            for j in range(w-ks+1):\n",
    "                if cur_map[i,j]>=ele:\n",
    "                    if class_map[pad+i,pad+j] in ma_id:\n",
    "                        num_phase[ind,ite,1]+=1\n",
    "                    else:\n",
    "                        num_phase[ind,ite,0]+=1                        \n",
    "pixels=parse(pixels,src)\n",
    "num_phase=parse(num_phase,src)\n",
    "result=dict()\n",
    "for key in list(pixels.keys()):\n",
    "    result[key]=num_phase[key]/pixels[key]\n",
    "            "
   ]
  },
  {
   "cell_type": "code",
   "execution_count": 224,
   "metadata": {},
   "outputs": [
    {
     "data": {
      "image/png": "[encoded data removed]",
      "text/plain": [
       "<Figure size 432x288 with 1 Axes>"
      ]
     },
     "metadata": {
      "needs_background": "light"
     },
     "output_type": "display_data"
    },
    {
     "data": {
      "image/png": "[encoded data removed]",
      "text/plain": [
       "<Figure size 432x288 with 1 Axes>"
      ]
     },
     "metadata": {
      "needs_background": "light"
     },
     "output_type": "display_data"
    },
    {
     "data": {
      "image/png": "[encoded data removed]",
      "text/plain": [
       "<Figure size 432x288 with 1 Axes>"
      ]
     },
     "metadata": {
      "needs_background": "light"
     },
     "output_type": "display_data"
    }
   ],
   "source": [
    "for steel in [\"590\",\"780\",\"980\"]:\n",
    "    plt.xticks(fontsize=14)\n",
    "    plt.yticks(fontsize=14)\n",
    "    plt.xlabel(\"Probability\",fontsize=16)\n",
    "    plt.ylabel('Fraction',fontsize=16)\n",
    "    plt.title(\"DP\"+steel,fontsize=16)\n",
    "    p1,=plt.plot(interval,result[steel][:,0])\n",
    "    p2,=plt.plot(interval,result[steel][:,1])\n",
    "    ax = p1.axes\n",
    "    ax.invert_xaxis()\n",
    "    plt.legend([p1,p2],[\"ferrite\",\"martensite\"],fontsize=16)\n",
    "    plt.savefig(\"output/fraction/%s_0.9_1.png\"%(steel),dpi=600,bbox_inches='tight', pad_inches=0.2)\n",
    "    plt.show()\n"
   ]
  },
  {
   "cell_type": "code",
   "execution_count": 17,
   "metadata": {},
   "outputs": [
    {
     "data": {
      "text/plain": [
       "tensor([[[ 1.0000e+00,  1.0000e+00,  1.0000e+00,  ...,  1.0000e+00,\n",
       "           1.0000e+00,  1.0000e+00],\n",
       "         [ 1.0000e+00,  1.0000e+00,  1.0000e+00,  ...,  1.0000e+00,\n",
       "           1.0000e+00,  1.0000e+00],\n",
       "         [ 1.0000e+00,  1.0000e+00,  1.0000e+00,  ...,  1.0000e+00,\n",
       "           1.0000e+00,  1.0000e+00],\n",
       "         ...,\n",
       "         [ 1.0000e+00,  1.0000e+00,  1.0000e+00,  ...,  1.0000e+00,\n",
       "           1.0000e+00,  1.0000e+00],\n",
       "         [ 1.0000e+00,  1.0000e+00,  1.0000e+00,  ...,  1.0000e+00,\n",
       "           1.0000e+00,  1.0000e+00],\n",
       "         [ 1.0000e+00,  1.0000e+00,  1.0000e+00,  ...,  1.0000e+00,\n",
       "           1.0000e+00,  1.0000e+00]],\n",
       "\n",
       "        [[ 1.3400e+02,  1.4500e+02,  1.3900e+02,  ...,  1.2400e+02,\n",
       "           1.0600e+02,  1.0500e+02],\n",
       "         [ 1.4000e+02,  1.4200e+02,  1.4700e+02,  ...,  1.0200e+02,\n",
       "           9.1000e+01,  1.0300e+02],\n",
       "         [ 1.4800e+02,  1.4500e+02,  1.4300e+02,  ...,  1.2900e+02,\n",
       "           9.7000e+01,  1.2600e+02],\n",
       "         ...,\n",
       "         [ 1.3700e+02,  1.3600e+02,  1.3700e+02,  ...,  1.0900e+02,\n",
       "           1.1400e+02,  1.2900e+02],\n",
       "         [ 1.3300e+02,  1.4700e+02,  1.3700e+02,  ...,  1.1900e+02,\n",
       "           1.2500e+02,  1.3200e+02],\n",
       "         [ 1.3600e+02,  1.4100e+02,  1.4700e+02,  ...,  1.2300e+02,\n",
       "           8.3000e+01,  9.0000e+01]],\n",
       "\n",
       "        [[ 0.0000e+00,  0.0000e+00,  0.0000e+00,  ...,  0.0000e+00,\n",
       "           0.0000e+00,  0.0000e+00],\n",
       "         [ 0.0000e+00,  0.0000e+00,  0.0000e+00,  ...,  0.0000e+00,\n",
       "           0.0000e+00,  0.0000e+00],\n",
       "         [ 0.0000e+00,  0.0000e+00,  0.0000e+00,  ...,  0.0000e+00,\n",
       "           0.0000e+00,  0.0000e+00],\n",
       "         ...,\n",
       "         [ 0.0000e+00,  0.0000e+00,  0.0000e+00,  ...,  0.0000e+00,\n",
       "           0.0000e+00,  0.0000e+00],\n",
       "         [ 0.0000e+00,  0.0000e+00,  0.0000e+00,  ...,  0.0000e+00,\n",
       "           0.0000e+00,  0.0000e+00],\n",
       "         [ 0.0000e+00,  0.0000e+00,  0.0000e+00,  ...,  0.0000e+00,\n",
       "           0.0000e+00,  0.0000e+00]],\n",
       "\n",
       "        ...,\n",
       "\n",
       "        [[ 2.9287e-01,  2.9280e-01,  2.9247e-01,  ..., -1.2581e-01,\n",
       "          -1.2571e-01, -1.2466e-01],\n",
       "         [ 2.9368e-01,  2.9209e-01,  2.9324e-01,  ..., -1.2581e-01,\n",
       "          -1.2734e-01, -1.2805e-01],\n",
       "         [ 2.9284e-01,  2.9295e-01,  2.9207e-01,  ..., -1.2959e-01,\n",
       "          -1.3239e-01, -1.3281e-01],\n",
       "         ...,\n",
       "         [-3.1490e-01, -3.1491e-01, -3.1512e-01,  ...,  3.3341e-01,\n",
       "           3.3438e-01,  3.3387e-01],\n",
       "         [-3.1504e-01, -3.1504e-01, -3.1475e-01,  ...,  3.3331e-01,\n",
       "           3.3410e-01,  3.3403e-01],\n",
       "         [-3.1562e-01, -3.1562e-01, -3.1624e-01,  ...,  3.3405e-01,\n",
       "           3.3361e-01,  3.3195e-01]],\n",
       "\n",
       "        [[ 1.8177e-02,  1.8088e-02,  1.7390e-02,  ...,  1.5340e-01,\n",
       "           1.5254e-01,  1.5241e-01],\n",
       "         [ 1.8770e-02,  1.7995e-02,  1.7886e-02,  ...,  1.5282e-01,\n",
       "           1.5341e-01,  1.5304e-01],\n",
       "         [ 1.8255e-02,  1.8018e-02,  1.7839e-02,  ...,  1.5336e-01,\n",
       "           1.5431e-01,  1.5529e-01],\n",
       "         ...,\n",
       "         [ 2.1176e-01,  2.1209e-01,  2.1278e-01,  ..., -4.6904e-02,\n",
       "          -4.5773e-02, -4.5415e-02],\n",
       "         [ 2.1176e-01,  2.1275e-01,  2.1306e-01,  ..., -4.5363e-02,\n",
       "          -4.4764e-02, -4.5580e-02],\n",
       "         [ 2.1184e-01,  2.1255e-01,  2.1270e-01,  ..., -4.5345e-02,\n",
       "          -4.3231e-02, -3.5410e-02]],\n",
       "\n",
       "        [[ 5.2799e-01,  5.2795e-01,  5.2857e-01,  ..., -1.8682e-01,\n",
       "          -1.8720e-01, -1.8723e-01],\n",
       "         [ 5.2723e-01,  5.2869e-01,  5.2806e-01,  ..., -1.8590e-01,\n",
       "          -1.8845e-01, -1.8764e-01],\n",
       "         [ 5.2794e-01,  5.2811e-01,  5.2844e-01,  ..., -1.8961e-01,\n",
       "          -1.8988e-01, -1.8826e-01],\n",
       "         ...,\n",
       "         [-4.8490e-01, -4.8511e-01, -4.8551e-01,  ...,  8.5702e-01,\n",
       "           8.5673e-01,  8.5697e-01],\n",
       "         [-4.8512e-01, -4.8482e-01, -4.8532e-01,  ...,  8.5716e-01,\n",
       "           8.5694e-01,  8.5763e-01],\n",
       "         [-4.8508e-01, -4.8526e-01, -4.8421e-01,  ...,  8.5687e-01,\n",
       "           8.5699e-01,  8.6288e-01]]])"
      ]
     },
     "execution_count": 17,
     "metadata": {},
     "output_type": "execute_result"
    }
   ],
   "source": [
    "data[-2]"
   ]
  },
  {
   "cell_type": "code",
   "execution_count": 37,
   "metadata": {},
   "outputs": [],
   "source": [
    "change=[]\n",
    "min_set={\"Phase\",\"BC\"}\n",
    "\n",
    "for i,ele in enumerate(feature):\n",
    "    if ele in min_set:\n",
    "        change.append(torch.min(data[:,i]))\n",
    "    elif ele==\"Quaternion\":\n",
    "        change=change+[1,0,0,0]\n",
    "    else:\n",
    "        change.append(torch.max(data[:,i]))\n",
    "        \n",
    "        \n"
   ]
  }
 ],
 "metadata": {
  "kernelspec": {
   "display_name": "Python 3",
   "language": "python",
   "name": "python3"
  },
  "language_info": {
   "codemirror_mode": {
    "name": "ipython",
    "version": 3
   },
   "file_extension": ".py",
   "mimetype": "text/x-python",
   "name": "python",
   "nbconvert_exporter": "python",
   "pygments_lexer": "ipython3",
   "version": "3.7.4"
  }
 },
 "nbformat": 4,
 "nbformat_minor": 2
}
