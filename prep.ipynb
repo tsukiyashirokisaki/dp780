{
 "cells": [
  {
   "cell_type": "code",
   "execution_count": null,
   "metadata": {},
   "outputs": [],
   "source": [
    "import numpy as np\n",
    "import numpy.ma as ma\n",
    "import matplotlib.pyplot as plt\n",
    "from numpy import pi, matmul,sqrt,dot,array,zeros,cos,sin,pi,arccos\n",
    "from func import OR,heatplot,misorientation,mat2plot, match,imgshow,calpoint,L2,L1,ipfread\n",
    "from Class import Exp,Data,Cluster\n",
    "import sys\n",
    "import os\n",
    "import cv2\n",
    "import pandas as pd\n",
    "from unet import UNet\n",
    "import torch\n",
    "import torch.nn.functional as F\n",
    "from torch.utils.data import Dataset\n",
    "def create_data(data_list):\n",
    "    h,w=50,50;ps=8\n",
    "    bef,aft,im,im_=data_list\n",
    "    X=[];Y=[];ind=[];ind_=[]\n",
    "    while True:\n",
    "        if X!=[]:\n",
    "            break\n",
    "#         print(len(X),len(Y),num)\n",
    "        h0,w0=np.random.randint(ps,im.shape[0]-h-ps+1),np.random.randint(ps,im.shape[1]-w-ps+1)\n",
    "        ind=[h0,w0]\n",
    "        #crop\n",
    "        cp=Data(crop=[bef,h0,w0,h,w])\n",
    "        exp=Exp(cp,aft)\n",
    "        p,min_val=match(L2,im[h0:h0+h,w0:w0+w],im_,h0,w0);exp.i,exp.j=p\n",
    "        ind_=p\n",
    "#         imgshow(im[h0:h0+h,w0:w0+w])\n",
    "#         imgshow(exp.mod(im_))\n",
    "#         print(min_val)\n",
    "        if min_val>4000:\n",
    "            continue\n",
    "        #crop with padding\n",
    "        cpp=Data(crop=[bef,h0-ps,w0-ps,h+2*ps,w+2*ps]) \n",
    "        ret=[]\n",
    "        for ele in [\"Phase\",\"MAD\",\"BC\",\"BS\",\"Bands\",\"Error\"]:\n",
    "            ret.append(cpp.get(ele).reshape(h+2*ps,w+2*ps,1))\n",
    "        ret.append(cpp.get(\"orient\").reshape(h+2*ps,w+2*ps,-1))\n",
    "        X=np.concatenate(ret,axis=2).transpose(2,0,1)\n",
    "        Y=exp.getmatch(\"Phase\",1)!=0\n",
    "#         print(len(X),len(Y))\n",
    "    return X,Y,ind,ind_\n",
    "class dataset(Dataset):\n",
    "    def __init__(self,bef,aft,im,im_):\n",
    "        self.bef=bef\n",
    "        self.aft=aft\n",
    "        self.im=im\n",
    "        self.im_=im_\n",
    "        \n",
    "    def __getitem__(self,index):\n",
    "        index=index%(len(self.bef))\n",
    "        X,Y,ind,ind_=create_data([self.bef[index],self.aft[index],self.im[index],self.im_[index]])\n",
    "        return torch.tensor(X,dtype=torch.float32),torch.tensor(Y,dtype=torch.long),ind,ind_,index\n",
    "    def __len__(self):\n",
    "        return len(self.bef)*2048\n"
   ]
  },
  {
   "cell_type": "code",
   "execution_count": null,
   "metadata": {},
   "outputs": [],
   "source": [
    "def create_dataset(root=\"data/train/\"):\n",
    "    bef=[]\n",
    "    aft=[]\n",
    "    im=[]\n",
    "    im_=[]\n",
    "    for date in os.listdir(root):\n",
    "        path=root+date+\"/before/\"\n",
    "        path_=root+date+\"/after/\"\n",
    "        bef.append(Data(path));aft.append(Data(path_))\n",
    "        im.append(ipfread(path)/255.);im_.append(ipfread(path_)/255.)\n",
    "    return dataset(bef,aft,im,im_)\n",
    "# train=dataset(bef,aft,im,im_)\n"
   ]
  },
  {
   "cell_type": "code",
   "execution_count": null,
   "metadata": {},
   "outputs": [],
   "source": [
    "train=create_dataset(\"data/train/\")\n",
    "test=create_dataset(\"data/test/\")"
   ]
  },
  {
   "cell_type": "code",
   "execution_count": null,
   "metadata": {},
   "outputs": [],
   "source": [
    "mat2plot(train.aft[0].data[\"Phase\"])"
   ]
  },
  {
   "cell_type": "code",
   "execution_count": null,
   "metadata": {
    "scrolled": false
   },
   "outputs": [],
   "source": [
    "BATCH_SIZE=16\n",
    "train_loader=torch.utils.data.DataLoader(train,batch_size=BATCH_SIZE,shuffle=True,num_workers=0)\n",
    "test_loader=torch.utils.data.DataLoader(test,batch_size=BATCH_SIZE,shuffle=True,num_workers=0)\n"
   ]
  },
  {
   "cell_type": "code",
   "execution_count": null,
   "metadata": {},
   "outputs": [],
   "source": [
    "# train[0]"
   ]
  },
  {
   "cell_type": "code",
   "execution_count": null,
   "metadata": {},
   "outputs": [],
   "source": [
    "# index=1\n",
    "# X,Y,ind,ind_=test[index]\n",
    "# h,w=50,50\n",
    "# h0,w0=ind\n",
    "# imgshow(test.im[index][h0:h0+h,w0:w0+w])\n",
    "# h1,w1=ind_\n",
    "# imgshow(test.im_[index][h1:h1+h,w1:w1+w])\n"
   ]
  },
  {
   "cell_type": "code",
   "execution_count": null,
   "metadata": {},
   "outputs": [],
   "source": [
    "# device = torch.device('cuda' if torch.cuda.is_available() else 'cpu')\n",
    "device=\"cpu\"\n",
    "model = UNet(n_classes=2,in_channels=15,depth=2,wf=4, padding=False, batch_norm=1,up_mode='upconv').to(device)\n",
    "optim = torch.optim.Adam(model.parameters(),lr=1e-4)\n",
    "epochs = 3"
   ]
  },
  {
   "cell_type": "code",
   "execution_count": null,
   "metadata": {},
   "outputs": [],
   "source": [
    "for ep in range(epochs):\n",
    "    model.train()\n",
    "    for _, (X,Y,im,im_) in enumerate(train_loader):\n",
    "        X = X.to(device); # [N, 1, H, W]\n",
    "        Y = Y.to(device); # [N, H, W] with class indices (0, 1)\n",
    "        prediction = model(X)  # [N, 2, H, W]\n",
    "        loss = F.cross_entropy(prediction, Y)\n",
    "        print(loss.item(),np.mean((torch.max(prediction,1)[1]==Y).cpu().numpy()))\n",
    "        break\n",
    "    optim.zero_grad()\n",
    "    loss.backward()\n",
    "    optim.step()\n",
    "    model.eval()\n",
    "    for _, (X,Y,im,im_) in enumerate(test_loader):\n",
    "        X = X.to(device); # [N, 1, H, W]\n",
    "        Y = Y.to(device); # [N, H, W] with class indices (0, 1)\n",
    "        prediction = model(X)  # [N, 2, H, W]\n",
    "        loss = F.cross_entropy(prediction, Y)\n",
    "        print(loss.item(),np.mean((torch.max(prediction,1)[1]==Y).cpu().numpy()))\n",
    "        break\n",
    "    "
   ]
  },
  {
   "cell_type": "code",
   "execution_count": null,
   "metadata": {},
   "outputs": [],
   "source": [
    "# plt.imshow(Y[0,:,:].detach().numpy(),cmap=\"gray\")"
   ]
  },
  {
   "cell_type": "code",
   "execution_count": null,
   "metadata": {},
   "outputs": [],
   "source": [
    "for _, (X,Y,ind,ind_) in enumerate(test_loader):\n",
    "    X = X.to(device); # [N, 1, H, W]\n",
    "    Y = Y.to(device); # [N, H, W] with class indices (0, 1)\n",
    "    prediction = model(X)  # [N, 2, H, W]\n",
    "    loss = F.cross_entropy(prediction, Y)\n",
    "    print(loss.item(),np.mean((torch.max(prediction,1)[1]==Y).cpu().numpy()))\n",
    "    break"
   ]
  },
  {
   "cell_type": "code",
   "execution_count": null,
   "metadata": {},
   "outputs": [],
   "source": [
    "index=1\n",
    "mode=0\n",
    "h,w=50,50\n",
    "h0,w0=ind[index][0],ind[index][1]\n",
    "imgshow(test.im[mode][h0:h0+h,w0:w0+w])\n",
    "h1,w1=ind_[index][0],ind_[index][1]\n",
    "imgshow(test.im_[mode][h1:h1+h,w1:w1+w])\n"
   ]
  },
  {
   "cell_type": "code",
   "execution_count": null,
   "metadata": {},
   "outputs": [],
   "source": [
    "for i in range(10):\n",
    "    print(i)\n",
    "    plt.imshow(Y[i,:,:].detach().numpy(),cmap=\"gray\")\n",
    "    plt.show()\n",
    "    plt.imshow(torch.max(prediction,1)[1][i].detach().numpy(),cmap=\"gray\")\n",
    "    plt.show()"
   ]
  },
  {
   "cell_type": "code",
   "execution_count": null,
   "metadata": {},
   "outputs": [],
   "source": []
  },
  {
   "cell_type": "code",
   "execution_count": null,
   "metadata": {},
   "outputs": [],
   "source": []
  }
 ],
 "metadata": {
  "kernelspec": {
   "display_name": "Python 3",
   "language": "python",
   "name": "python3"
  },
  "language_info": {
   "codemirror_mode": {
    "name": "ipython",
    "version": 3
   },
   "file_extension": ".py",
   "mimetype": "text/x-python",
   "name": "python",
   "nbconvert_exporter": "python",
   "pygments_lexer": "ipython3",
   "version": "3.7.4"
  }
 },
 "nbformat": 4,
 "nbformat_minor": 2
}
