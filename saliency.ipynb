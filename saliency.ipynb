{
 "cells": [
  {
   "cell_type": "code",
   "execution_count": 1,
   "metadata": {},
   "outputs": [],
   "source": [
    "import sys\n",
    "import os\n",
    "import cv2\n",
    "import pandas as pd\n",
    "import torch\n",
    "import torch.nn as nn\n",
    "import numpy as np\n",
    "import random\n",
    "import matplotlib.pyplot as plt\n",
    "from numpy import pi, matmul,sqrt,dot,array,zeros,cos,sin,pi,arccos\n",
    "from torch.utils.data import DataLoader\n",
    "from func import OR,heatplot,misorientation,mat2plot, match,imgshow,calpoint,L2,L1,ipfread\n",
    "from Class import Exp,Data,Cluster\n",
    "import torch.nn.functional as F\n",
    "import matplotlib.patches as patches\n",
    "\n",
    "class Dataset(torch.utils.data.Dataset):\n",
    "    def __init__(self,bef,im,target):\n",
    "        self.bef=bef\n",
    "        self.im=im\n",
    "        self.target=target\n",
    "    def __getitem__(self,index):\n",
    "        X=self.bef[index]\n",
    "        Y=self.target[index]\n",
    "        im=self.im[index]\n",
    "        return torch.tensor(X,dtype=torch.float32),torch.tensor(Y,dtype=torch.long),im\n",
    "    def __len__(self):\n",
    "        return len(self.bef)\n",
    "def negsample(corner):\n",
    "    mat=np.zeros([500,500])\n",
    "    for (i,j) in corner:\n",
    "        for k in range(max(0,i-49),min(500,i+50)):\n",
    "            for l in range(max(0,j-49),min(500,j+50)):\n",
    "                mat[k,l]=1\n",
    "    cand = []\n",
    "    for i in range(451):\n",
    "        for j in range(451):\n",
    "            if not mat[i][j]:\n",
    "                cand.append([i,j])\n",
    "    return random.sample(cand,len(corner))\n"
   ]
  },
  {
   "cell_type": "code",
   "execution_count": 3,
   "metadata": {},
   "outputs": [
    {
     "ename": "KeyError",
     "evalue": "'orient'",
     "output_type": "error",
     "traceback": [
      "\u001b[1;31m---------------------------------------------------------------------------\u001b[0m",
      "\u001b[1;31mKeyError\u001b[0m                                  Traceback (most recent call last)",
      "\u001b[1;32m<ipython-input-3-6e677dd97a84>\u001b[0m in \u001b[0;36m<module>\u001b[1;34m\u001b[0m\n\u001b[0;32m     34\u001b[0m     \u001b[0mtarget\u001b[0m\u001b[1;33m=\u001b[0m\u001b[0mnp\u001b[0m\u001b[1;33m.\u001b[0m\u001b[0marray\u001b[0m\u001b[1;33m(\u001b[0m\u001b[0mtarget\u001b[0m\u001b[1;33m)\u001b[0m\u001b[1;33m\u001b[0m\u001b[1;33m\u001b[0m\u001b[0m\n\u001b[0;32m     35\u001b[0m     \u001b[1;32mreturn\u001b[0m \u001b[0mDataset\u001b[0m\u001b[1;33m(\u001b[0m\u001b[0mbef\u001b[0m\u001b[1;33m,\u001b[0m\u001b[0mim\u001b[0m\u001b[1;33m,\u001b[0m\u001b[0mtarget\u001b[0m\u001b[1;33m)\u001b[0m\u001b[1;33m\u001b[0m\u001b[1;33m\u001b[0m\u001b[0m\n\u001b[1;32m---> 36\u001b[1;33m \u001b[0mtrain\u001b[0m\u001b[1;33m=\u001b[0m\u001b[0mcreate_dataset\u001b[0m\u001b[1;33m(\u001b[0m\u001b[1;34m\"data/train/\"\u001b[0m\u001b[1;33m,\u001b[0m\u001b[0mfeature\u001b[0m\u001b[1;33m=\u001b[0m\u001b[1;33m[\u001b[0m\u001b[1;34m\"Orient\"\u001b[0m\u001b[1;33m,\u001b[0m\u001b[1;34m\"BC\"\u001b[0m\u001b[1;33m,\u001b[0m\u001b[1;34m\"BS\"\u001b[0m\u001b[1;33m]\u001b[0m\u001b[1;33m)\u001b[0m\u001b[1;33m\u001b[0m\u001b[1;33m\u001b[0m\u001b[0m\n\u001b[0m\u001b[0;32m     37\u001b[0m \u001b[0mtest\u001b[0m\u001b[1;33m=\u001b[0m\u001b[0mcreate_dataset\u001b[0m\u001b[1;33m(\u001b[0m\u001b[1;34m\"data/test/\"\u001b[0m\u001b[1;33m,\u001b[0m\u001b[0mfeature\u001b[0m\u001b[1;33m=\u001b[0m\u001b[1;33m[\u001b[0m\u001b[1;34m\"Orient\"\u001b[0m\u001b[1;33m,\u001b[0m\u001b[1;34m\"BC\"\u001b[0m\u001b[1;33m,\u001b[0m\u001b[1;34m\"BS\"\u001b[0m\u001b[1;33m]\u001b[0m\u001b[1;33m)\u001b[0m\u001b[1;33m\u001b[0m\u001b[1;33m\u001b[0m\u001b[0m\n",
      "\u001b[1;32m<ipython-input-3-6e677dd97a84>\u001b[0m in \u001b[0;36mcreate_dataset\u001b[1;34m(root, feature)\u001b[0m\n\u001b[0;32m      8\u001b[0m         \u001b[0mpath\u001b[0m\u001b[1;33m=\u001b[0m\u001b[0mroot\u001b[0m\u001b[1;33m+\u001b[0m\u001b[0mdate\u001b[0m\u001b[1;33m+\u001b[0m\u001b[1;34m\"/before/\"\u001b[0m\u001b[1;33m\u001b[0m\u001b[1;33m\u001b[0m\u001b[0m\n\u001b[0;32m      9\u001b[0m         \u001b[0mdata\u001b[0m\u001b[1;33m=\u001b[0m\u001b[0mData\u001b[0m\u001b[1;33m(\u001b[0m\u001b[0mpath\u001b[0m\u001b[1;33m)\u001b[0m\u001b[1;33m\u001b[0m\u001b[1;33m\u001b[0m\u001b[0m\n\u001b[1;32m---> 10\u001b[1;33m         \u001b[0mdata\u001b[0m\u001b[1;33m.\u001b[0m\u001b[0mdata\u001b[0m\u001b[1;33m[\u001b[0m\u001b[1;34m\"orient\"\u001b[0m\u001b[1;33m]\u001b[0m\u001b[1;33m=\u001b[0m\u001b[0mdata\u001b[0m\u001b[1;33m.\u001b[0m\u001b[0mdata\u001b[0m\u001b[1;33m[\u001b[0m\u001b[1;34m\"orient\"\u001b[0m\u001b[1;33m]\u001b[0m\u001b[1;33m.\u001b[0m\u001b[0mreshape\u001b[0m\u001b[1;33m(\u001b[0m\u001b[0mdata\u001b[0m\u001b[1;33m.\u001b[0m\u001b[0mh\u001b[0m\u001b[1;33m,\u001b[0m\u001b[0mdata\u001b[0m\u001b[1;33m.\u001b[0m\u001b[0mw\u001b[0m\u001b[1;33m,\u001b[0m\u001b[1;33m-\u001b[0m\u001b[1;36m1\u001b[0m\u001b[1;33m)\u001b[0m\u001b[1;33m\u001b[0m\u001b[1;33m\u001b[0m\u001b[0m\n\u001b[0m\u001b[0;32m     11\u001b[0m         \u001b[1;32mfor\u001b[0m \u001b[1;33m(\u001b[0m\u001b[0mi\u001b[0m\u001b[1;33m,\u001b[0m\u001b[0mj\u001b[0m\u001b[1;33m)\u001b[0m \u001b[1;32min\u001b[0m \u001b[0mcorner\u001b[0m\u001b[1;33m[\u001b[0m\u001b[0mdate\u001b[0m\u001b[1;33m]\u001b[0m\u001b[1;33m:\u001b[0m\u001b[1;33m\u001b[0m\u001b[1;33m\u001b[0m\u001b[0m\n\u001b[0;32m     12\u001b[0m             \u001b[0mim\u001b[0m\u001b[1;33m.\u001b[0m\u001b[0mappend\u001b[0m\u001b[1;33m(\u001b[0m\u001b[0mipfread\u001b[0m\u001b[1;33m(\u001b[0m\u001b[0mpath\u001b[0m\u001b[1;33m)\u001b[0m\u001b[1;33m[\u001b[0m\u001b[0mi\u001b[0m\u001b[1;33m:\u001b[0m\u001b[0mi\u001b[0m\u001b[1;33m+\u001b[0m\u001b[0mh\u001b[0m\u001b[1;33m,\u001b[0m\u001b[0mj\u001b[0m\u001b[1;33m:\u001b[0m\u001b[0mj\u001b[0m\u001b[1;33m+\u001b[0m\u001b[0mw\u001b[0m\u001b[1;33m]\u001b[0m\u001b[1;33m/\u001b[0m\u001b[1;36m255.\u001b[0m\u001b[1;33m)\u001b[0m\u001b[1;33m\u001b[0m\u001b[1;33m\u001b[0m\u001b[0m\n",
      "\u001b[1;31mKeyError\u001b[0m: 'orient'"
     ]
    }
   ],
   "source": [
    "def create_dataset(root=\"data/train/\",feature=[\"orient\",\"MAD\"]):\n",
    "    corner=torch.load(\"data/corner.pkl\")\n",
    "    bef=[]\n",
    "    im=[]\n",
    "    target=[]\n",
    "    h=w=50\n",
    "    for date in os.listdir(root):\n",
    "        path=root+date+\"/before/\"\n",
    "        data=Data(path)\n",
    "        data.data[\"orient\"]=data.data[\"orient\"].reshape(data.h,data.w,-1)\n",
    "        for (i,j) in corner[date]:\n",
    "            im.append(ipfread(path)[i:i+h,j:j+w]/255.)\n",
    "            app=[]\n",
    "            for ele in feature:\n",
    "                if ele==\"orient\":\n",
    "                    app.append(data.data[ele][i:i+h,j:j+w])\n",
    "                else:\n",
    "                    app.append(data.data[ele][i:i+h,j:j+w,np.newaxis])\n",
    "            bef.append(np.concatenate(app,axis=2))\n",
    "            target.append(0)\n",
    "        for (i,j) in negsample(corner[date]):\n",
    "            im.append(ipfread(path)[i:i+h,j:j+w]/255.)\n",
    "            app=[]\n",
    "            for ele in feature:\n",
    "                if ele==\"orient\":\n",
    "                    app.append(data.data[ele][i:i+h,j:j+w])\n",
    "                else:\n",
    "                    app.append(data.data[ele][i:i+h,j:j+w,np.newaxis])\n",
    "            bef.append(np.concatenate(app,axis=2))\n",
    "            target.append(1)\n",
    "        \n",
    "    bef=np.transpose(np.array(bef),(0,3,1,2))\n",
    "    im=np.array(im)\n",
    "    target=np.array(target)\n",
    "    return Dataset(bef,im,target)\n",
    "train=create_dataset(\"data/train/\",feature=[\"Orient\",\"BC\",\"BS\"])\n",
    "test=create_dataset(\"data/test/\",feature=[\"Orient\",\"BC\",\"BS\"])"
   ]
  },
  {
   "cell_type": "code",
   "execution_count": null,
   "metadata": {},
   "outputs": [],
   "source": [
    "class CNN3(nn.Module):\n",
    "    def __init__(self):\n",
    "        super(CNN3, self).__init__()\n",
    "        self.batchnorm = nn.BatchNorm2d(in_channel)\n",
    "        self.relu = nn.ReLU() # activation\n",
    "        self.dropout = nn.Dropout(0.5)\n",
    "        self.maxpool = nn.MaxPool2d(kernel_size=2) \n",
    "        self.cnn1 = nn.Conv2d(in_channels=in_channel, out_channels=12, kernel_size=3, stride=1, padding=0) \n",
    "        self.cnn2 = nn.Conv2d(in_channels=12, out_channels=18, kernel_size=3, stride=1, padding=1) \n",
    "        self.cnn3 = nn.Conv2d(in_channels=18, out_channels=24, kernel_size=3, stride=1, padding=0) \n",
    "        self.fc1 = nn.Linear(24 * 5 * 5, 2) \n",
    "        self.softmax = nn.Softmax(1)\n",
    "    def forward(self, x):\n",
    "        # Convolution 1 50\n",
    "        out = self.batchnorm(x)\n",
    "        out = self.cnn1(x) # 48\n",
    "        out = self.relu(out)\n",
    "        out = self.maxpool(out) #24\n",
    "        out = self.cnn2(out) #24\n",
    "        out = self.relu(out) \n",
    "        out = self.maxpool(out) #12\n",
    "        out = self.dropout(out)\n",
    "        out = self.cnn3(out) #10\n",
    "        out = self.relu(out)\n",
    "        out = self.maxpool(out) #5\n",
    "        out = out.view(out.size(0), -1)\n",
    "        # Linear function (readout)\n",
    "        out = self.fc1(out)\n",
    "        out = self.softmax(out)\n",
    "        return out\n",
    "class CNN5(nn.Module):\n",
    "    def __init__(self):\n",
    "        super(CNN5, self).__init__()\n",
    "        self.batchnorm = nn.BatchNorm2d(in_channel)\n",
    "        self.dropout = nn.Dropout(0.5)\n",
    "        self.relu = nn.ReLU() # activation\n",
    "        self.maxpool = nn.MaxPool2d(kernel_size=2) \n",
    "        self.cnn1 = nn.Conv2d(in_channels=in_channel, out_channels=12, kernel_size=3, stride=1, padding=0) \n",
    "        self.cnn2 = nn.Conv2d(in_channels=12, out_channels=18, kernel_size=3, stride=1, padding=0) \n",
    "        self.cnn3 = nn.Conv2d(in_channels=18, out_channels=24, kernel_size=3, stride=1, padding=0) \n",
    "        self.fc1 = nn.Linear(24 * 9 * 9, 2) \n",
    "        self.softmax = nn.Softmax(1)\n",
    "    def forward(self, x):\n",
    "        # Convolution 1 50\n",
    "        out = self.batchnorm(x)\n",
    "        out = self.cnn1(x) # 48\n",
    "        out = self.relu(out)\n",
    "        out = self.maxpool(out) #24\n",
    "        out = self.cnn2(out) #22\n",
    "        out = self.relu(out) \n",
    "        out = self.maxpool(out) #11\n",
    "        out = self.dropout(out)\n",
    "        out = self.cnn3(out) #9\n",
    "        out = self.relu(out)\n",
    "        out = out.view(out.size(0), -1)\n",
    "        # Linear function (readout)\n",
    "        out = self.fc1(out)\n",
    "        out = self.softmax(out)\n",
    "        return out"
   ]
  },
  {
   "cell_type": "code",
   "execution_count": null,
   "metadata": {},
   "outputs": [],
   "source": [
    "train_loader= DataLoader(train, batch_size=64, shuffle=True,  num_workers=0, drop_last=True )\n",
    "test_loader= DataLoader(test, batch_size=64, shuffle=True,  num_workers=0,  drop_last=False )"
   ]
  },
  {
   "cell_type": "code",
   "execution_count": 28,
   "metadata": {},
   "outputs": [],
   "source": [
    "torch.save(model,\"model/CNN5_obcbs_0.804.pkl\")"
   ]
  },
  {
   "cell_type": "code",
   "execution_count": 5,
   "metadata": {},
   "outputs": [
    {
     "name": "stdout",
     "output_type": "stream",
     "text": [
      "0.7450980392156863\n"
     ]
    }
   ],
   "source": [
    "m1 = torch.load(\"model/CNN5_obcbs_0.804\")\n",
    "# m2 = torch.load(\"model/CNN3_obcbs_0.775\")\n",
    "# m3 = torch.load(\"model/CNN3_obcbs_0.775\")\n",
    "m1.eval()\n",
    "# m2.eval()\n",
    "cum=0\n",
    "for batch_ndx, sample in enumerate(test_loader):\n",
    "    X,Y,_= sample\n",
    "    output=m1(X)\n",
    "    predict = torch.max(output, 1)[1]\n",
    "    cum+=np.sum((Y == predict).cpu().numpy())\n",
    "print(cum/len(test))"
   ]
  },
  {
   "cell_type": "code",
   "execution_count": 52,
   "metadata": {},
   "outputs": [
    {
     "name": "stdout",
     "output_type": "stream",
     "text": [
      "tensor(1)\n",
      "tensor([[0.2701, 0.7299]], grad_fn=<SoftmaxBackward>)\n"
     ]
    },
    {
     "data": {
      "image/png": "[encoded data removed]",
      "text/plain": [
       "<Figure size 432x288 with 1 Axes>"
      ]
     },
     "metadata": {
      "needs_background": "light"
     },
     "output_type": "display_data"
    },
    {
     "data": {
      "image/png": "[encoded data removed]",
      "text/plain": [
       "<Figure size 432x288 with 1 Axes>"
      ]
     },
     "metadata": {
      "needs_background": "light"
     },
     "output_type": "display_data"
    },
    {
     "data": {
      "text/plain": [
       "True"
      ]
     },
     "execution_count": 52,
     "metadata": {},
     "output_type": "execute_result"
    }
   ],
   "source": [
    "model = torch.load(\"model/CNN5_obcbs_0.804.pkl\")\n",
    "corner=torch.load(\"data/corner.pkl\")\n",
    "for param in model.parameters():\n",
    "    param.requires_grad = False\n",
    "index=98\n",
    "X=test[index][0].unsqueeze(0)\n",
    "print(test[index][1])\n",
    "model.eval()\n",
    "X.requires_grad_()\n",
    "scores = model(X)\n",
    "print(scores)\n",
    "score_max_index = scores.argmax()\n",
    "score_max = scores[0,score_max_index]\n",
    "score_max.backward()\n",
    "saliency, _ = torch.max(X.grad.data.abs(),dim=1)\n",
    "img=255*test[index][2][:,:,6:]\n",
    "plt.imshow(img[...,[2,1,0]].astype(\"int\"))\n",
    "plt.axis('off')\n",
    "plt.imshow(saliency[0],cmap=\"gray\",alpha=0.5)\n",
    "plt.savefig(\"output/test%d_cover.png\"%(index),dpi=600,bbox_inches='tight', pad_inches=0)\n",
    "plt.show()\n",
    "plt.imshow(saliency[0],cmap=\"gray\")\n",
    "plt.axis('off')\n",
    "plt.savefig(\"output/test%d_sal.png\"%(index),dpi=600,bbox_inches='tight', pad_inches=0)\n",
    "plt.show()\n",
    "cv2.imwrite(\"output/test%d_%d.png\"%(index,test[index][1]),(255*test[index][2][:,:,6:]).astype(\"int\"))\n"
   ]
  },
  {
   "cell_type": "code",
   "execution_count": null,
   "metadata": {},
   "outputs": [],
   "source": []
  },
  {
   "cell_type": "code",
   "execution_count": null,
   "metadata": {},
   "outputs": [],
   "source": []
  }
 ],
 "metadata": {
  "kernelspec": {
   "display_name": "Python 3",
   "language": "python",
   "name": "python3"
  },
  "language_info": {
   "codemirror_mode": {
    "name": "ipython",
    "version": 3
   },
   "file_extension": ".py",
   "mimetype": "text/x-python",
   "name": "python",
   "nbconvert_exporter": "python",
   "pygments_lexer": "ipython3",
   "version": "3.7.4"
  }
 },
 "nbformat": 4,
 "nbformat_minor": 2
}
