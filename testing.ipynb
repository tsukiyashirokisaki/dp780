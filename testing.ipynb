{
 "cells": [
  {
   "cell_type": "code",
   "execution_count": 1,
   "metadata": {},
   "outputs": [],
   "source": [
    "import sys\n",
    "import os\n",
    "import pandas as pd\n",
    "import torch\n",
    "import torch.nn as nn\n",
    "import numpy as np\n",
    "import random\n",
    "import matplotlib.pyplot as plt\n",
    "from numpy import pi, matmul,sqrt,dot,array,zeros,cos,sin,pi,arccos\n",
    "from torch.utils.data import DataLoader\n",
    "from func import OR,heatplot,misorientation,ipfread,negsample,properties\n",
    "from func2 import create_dataset\n",
    "from Class import Data,Cluster,Dataset,CNN49ag,CNN49bg\n",
    "import torch.nn.functional as F\n",
    "import matplotlib.patches as patches\n"
   ]
  },
  {
   "cell_type": "code",
   "execution_count": 2,
   "metadata": {},
   "outputs": [
    {
     "name": "stderr",
     "output_type": "stream",
     "text": [
      "C:\\ProgramData\\Anaconda3\\lib\\site-packages\\torch\\serialization.py:493: SourceChangeWarning: source code of class 'torch.nn.modules.batchnorm.BatchNorm2d' has changed. you can retrieve the original source code by accessing the object's source attribute or set `torch.nn.Module.dump_patches = True` and use the patch tool to revert the changes.\n",
      "  warnings.warn(msg, SourceChangeWarning)\n",
      "C:\\ProgramData\\Anaconda3\\lib\\site-packages\\torch\\serialization.py:493: SourceChangeWarning: source code of class 'torch.nn.modules.activation.ReLU' has changed. you can retrieve the original source code by accessing the object's source attribute or set `torch.nn.Module.dump_patches = True` and use the patch tool to revert the changes.\n",
      "  warnings.warn(msg, SourceChangeWarning)\n",
      "C:\\ProgramData\\Anaconda3\\lib\\site-packages\\torch\\serialization.py:493: SourceChangeWarning: source code of class 'torch.nn.modules.pooling.MaxPool2d' has changed. you can retrieve the original source code by accessing the object's source attribute or set `torch.nn.Module.dump_patches = True` and use the patch tool to revert the changes.\n",
      "  warnings.warn(msg, SourceChangeWarning)\n",
      "C:\\ProgramData\\Anaconda3\\lib\\site-packages\\torch\\serialization.py:493: SourceChangeWarning: source code of class 'torch.nn.modules.conv.Conv2d' has changed. you can retrieve the original source code by accessing the object's source attribute or set `torch.nn.Module.dump_patches = True` and use the patch tool to revert the changes.\n",
      "  warnings.warn(msg, SourceChangeWarning)\n",
      "C:\\ProgramData\\Anaconda3\\lib\\site-packages\\torch\\serialization.py:493: SourceChangeWarning: source code of class 'torch.nn.modules.linear.Linear' has changed. you can retrieve the original source code by accessing the object's source attribute or set `torch.nn.Module.dump_patches = True` and use the patch tool to revert the changes.\n",
      "  warnings.warn(msg, SourceChangeWarning)\n",
      "C:\\ProgramData\\Anaconda3\\lib\\site-packages\\torch\\serialization.py:493: SourceChangeWarning: source code of class 'torch.nn.modules.activation.Softmax' has changed. you can retrieve the original source code by accessing the object's source attribute or set `torch.nn.Module.dump_patches = True` and use the patch tool to revert the changes.\n",
      "  warnings.warn(msg, SourceChangeWarning)\n"
     ]
    },
    {
     "name": "stdout",
     "output_type": "stream",
     "text": [
      "data/590/test/20210314/before/\n",
      "data/780/test/20201109/before/\n",
      "model/CNN_49g_all/0.824_CNN49bg_BC_BS_Error.pkl [0.7021276595744681]\n",
      "data/590/test/20210314/before/\n",
      "data/780/test/20201109/before/\n",
      "model/CNN_49g_all/0.815_CNN49bg_Phase_BC_Error_Quaternion.pkl [0.7021276595744681, 0.7127659574468085]\n",
      "data/590/test/20210314/before/\n",
      "data/780/test/20201109/before/\n",
      "model/CNN_49g_all/0.815_CNN49bg_BC_BS_Error.pkl [0.7021276595744681, 0.7127659574468085, 0.7446808510638298]\n",
      "data/590/test/20210314/before/\n",
      "data/780/test/20201109/before/\n",
      "model/CNN_49g_all/0.815_CNN49ag_Phase_BC_BS_Quaternion.pkl [0.7021276595744681, 0.7127659574468085, 0.7446808510638298, 0.7021276595744681]\n",
      "data/590/test/20210314/before/\n",
      "data/780/test/20201109/before/\n",
      "model/CNN_49g_all/0.806_CNN49bg_Phase_BC_Error_Quaternion.pkl [0.7021276595744681, 0.7127659574468085, 0.7446808510638298, 0.7021276595744681, 0.7446808510638298]\n",
      "data/590/test/20210314/before/\n",
      "data/780/test/20201109/before/\n",
      "model/CNN_49g_all/0.806_CNN49bg_Phase_BC_BS_Quaternion.pkl [0.7021276595744681, 0.7127659574468085, 0.7446808510638298, 0.7021276595744681, 0.7446808510638298, 0.6702127659574468]\n",
      "data/590/test/20210314/before/\n",
      "data/780/test/20201109/before/\n",
      "model/CNN_49g_all/0.806_CNN49bg_Phase_BC_BS_Error.pkl [0.7021276595744681, 0.7127659574468085, 0.7446808510638298, 0.7021276595744681, 0.7446808510638298, 0.6702127659574468, 0.7127659574468085]\n",
      "data/590/test/20210314/before/\n",
      "data/780/test/20201109/before/\n",
      "model/CNN_49g_all/0.806_CNN49bg_Error.pkl [0.7021276595744681, 0.7127659574468085, 0.7446808510638298, 0.7021276595744681, 0.7446808510638298, 0.6702127659574468, 0.7127659574468085, 0.7446808510638298]\n",
      "data/590/test/20210314/before/\n",
      "data/780/test/20201109/before/\n",
      "model/CNN_49g_all/0.806_CNN49bg_BC_BS_Error.pkl [0.7021276595744681, 0.7127659574468085, 0.7446808510638298, 0.7021276595744681, 0.7446808510638298, 0.6702127659574468, 0.7127659574468085, 0.7446808510638298, 0.648936170212766]\n",
      "data/590/test/20210314/before/\n",
      "data/780/test/20201109/before/\n",
      "model/CNN_49g_all/0.806_CNN49ag_Phase_BC_Error_Quaternion.pkl [0.7021276595744681, 0.7127659574468085, 0.7446808510638298, 0.7021276595744681, 0.7446808510638298, 0.6702127659574468, 0.7127659574468085, 0.7446808510638298, 0.648936170212766, 0.7021276595744681]\n",
      "data/590/test/20210314/before/\n",
      "data/780/test/20201109/before/\n",
      "model/CNN_49g_all/0.806_CNN49ag_Phase_BC_BS_Quaternion.pkl [0.7021276595744681, 0.7127659574468085, 0.7446808510638298, 0.7021276595744681, 0.7446808510638298, 0.6702127659574468, 0.7127659574468085, 0.7446808510638298, 0.648936170212766, 0.7021276595744681, 0.6595744680851063]\n",
      "data/590/test/20210314/before/\n",
      "data/780/test/20201109/before/\n",
      "model/CNN_49g_all/0.806_CNN49ag_Phase_BC_BS_Error.pkl [0.7021276595744681, 0.7127659574468085, 0.7446808510638298, 0.7021276595744681, 0.7446808510638298, 0.6702127659574468, 0.7127659574468085, 0.7446808510638298, 0.648936170212766, 0.7021276595744681, 0.6595744680851063, 0.7446808510638298]\n",
      "data/590/test/20210314/before/\n",
      "data/780/test/20201109/before/\n",
      "model/CNN_49g_all/0.824_CNN49bg_BC_BS_Error.pkl [0.6702127659574468]\n",
      "data/590/test/20210314/before/\n",
      "data/780/test/20201109/before/\n",
      "model/CNN_49g_all/0.815_CNN49bg_Phase_BC_Error_Quaternion.pkl [0.6702127659574468, 0.723404255319149]\n",
      "data/590/test/20210314/before/\n",
      "data/780/test/20201109/before/\n",
      "model/CNN_49g_all/0.815_CNN49bg_BC_BS_Error.pkl [0.6702127659574468, 0.723404255319149, 0.7127659574468085]\n",
      "data/590/test/20210314/before/\n",
      "data/780/test/20201109/before/\n",
      "model/CNN_49g_all/0.815_CNN49ag_Phase_BC_BS_Quaternion.pkl [0.6702127659574468, 0.723404255319149, 0.7127659574468085, 0.6276595744680851]\n",
      "data/590/test/20210314/before/\n",
      "data/780/test/20201109/before/\n",
      "model/CNN_49g_all/0.806_CNN49bg_Phase_BC_Error_Quaternion.pkl [0.6702127659574468, 0.723404255319149, 0.7127659574468085, 0.6276595744680851, 0.7340425531914894]\n",
      "data/590/test/20210314/before/\n",
      "data/780/test/20201109/before/\n",
      "model/CNN_49g_all/0.806_CNN49bg_Phase_BC_BS_Quaternion.pkl [0.6702127659574468, 0.723404255319149, 0.7127659574468085, 0.6276595744680851, 0.7340425531914894, 0.6808510638297872]\n",
      "data/590/test/20210314/before/\n",
      "data/780/test/20201109/before/\n",
      "model/CNN_49g_all/0.806_CNN49bg_Phase_BC_BS_Error.pkl [0.6702127659574468, 0.723404255319149, 0.7127659574468085, 0.6276595744680851, 0.7340425531914894, 0.6808510638297872, 0.6595744680851063]\n",
      "data/590/test/20210314/before/\n",
      "data/780/test/20201109/before/\n",
      "model/CNN_49g_all/0.806_CNN49bg_Error.pkl [0.6702127659574468, 0.723404255319149, 0.7127659574468085, 0.6276595744680851, 0.7340425531914894, 0.6808510638297872, 0.6595744680851063, 0.776595744680851]\n",
      "data/590/test/20210314/before/\n",
      "data/780/test/20201109/before/\n",
      "model/CNN_49g_all/0.806_CNN49bg_BC_BS_Error.pkl [0.6702127659574468, 0.723404255319149, 0.7127659574468085, 0.6276595744680851, 0.7340425531914894, 0.6808510638297872, 0.6595744680851063, 0.776595744680851, 0.6914893617021277]\n",
      "data/590/test/20210314/before/\n",
      "data/780/test/20201109/before/\n",
      "model/CNN_49g_all/0.806_CNN49ag_Phase_BC_Error_Quaternion.pkl [0.6702127659574468, 0.723404255319149, 0.7127659574468085, 0.6276595744680851, 0.7340425531914894, 0.6808510638297872, 0.6595744680851063, 0.776595744680851, 0.6914893617021277, 0.723404255319149]\n",
      "data/590/test/20210314/before/\n",
      "data/780/test/20201109/before/\n",
      "model/CNN_49g_all/0.806_CNN49ag_Phase_BC_BS_Quaternion.pkl [0.6702127659574468, 0.723404255319149, 0.7127659574468085, 0.6276595744680851, 0.7340425531914894, 0.6808510638297872, 0.6595744680851063, 0.776595744680851, 0.6914893617021277, 0.723404255319149, 0.6595744680851063]\n",
      "data/590/test/20210314/before/\n",
      "data/780/test/20201109/before/\n",
      "model/CNN_49g_all/0.806_CNN49ag_Phase_BC_BS_Error.pkl [0.6702127659574468, 0.723404255319149, 0.7127659574468085, 0.6276595744680851, 0.7340425531914894, 0.6808510638297872, 0.6595744680851063, 0.776595744680851, 0.6914893617021277, 0.723404255319149, 0.6595744680851063, 0.7446808510638298]\n",
      "data/590/test/20210314/before/\n",
      "data/780/test/20201109/before/\n",
      "model/CNN_49g_all/0.824_CNN49bg_BC_BS_Error.pkl [0.7021276595744681]\n",
      "data/590/test/20210314/before/\n",
      "data/780/test/20201109/before/\n",
      "model/CNN_49g_all/0.815_CNN49bg_Phase_BC_Error_Quaternion.pkl [0.7021276595744681, 0.7553191489361702]\n",
      "data/590/test/20210314/before/\n",
      "data/780/test/20201109/before/\n",
      "model/CNN_49g_all/0.815_CNN49bg_BC_BS_Error.pkl [0.7021276595744681, 0.7553191489361702, 0.7659574468085106]\n",
      "data/590/test/20210314/before/\n",
      "data/780/test/20201109/before/\n",
      "model/CNN_49g_all/0.815_CNN49ag_Phase_BC_BS_Quaternion.pkl [0.7021276595744681, 0.7553191489361702, 0.7659574468085106, 0.6276595744680851]\n",
      "data/590/test/20210314/before/\n",
      "data/780/test/20201109/before/\n",
      "model/CNN_49g_all/0.806_CNN49bg_Phase_BC_Error_Quaternion.pkl [0.7021276595744681, 0.7553191489361702, 0.7659574468085106, 0.6276595744680851, 0.723404255319149]\n",
      "data/590/test/20210314/before/\n",
      "data/780/test/20201109/before/\n",
      "model/CNN_49g_all/0.806_CNN49bg_Phase_BC_BS_Quaternion.pkl [0.7021276595744681, 0.7553191489361702, 0.7659574468085106, 0.6276595744680851, 0.723404255319149, 0.723404255319149]\n",
      "data/590/test/20210314/before/\n",
      "data/780/test/20201109/before/\n",
      "model/CNN_49g_all/0.806_CNN49bg_Phase_BC_BS_Error.pkl [0.7021276595744681, 0.7553191489361702, 0.7659574468085106, 0.6276595744680851, 0.723404255319149, 0.723404255319149, 0.6914893617021277]\n",
      "data/590/test/20210314/before/\n",
      "data/780/test/20201109/before/\n",
      "model/CNN_49g_all/0.806_CNN49bg_Error.pkl [0.7021276595744681, 0.7553191489361702, 0.7659574468085106, 0.6276595744680851, 0.723404255319149, 0.723404255319149, 0.6914893617021277, 0.723404255319149]\n",
      "data/590/test/20210314/before/\n",
      "data/780/test/20201109/before/\n",
      "model/CNN_49g_all/0.806_CNN49bg_BC_BS_Error.pkl [0.7021276595744681, 0.7553191489361702, 0.7659574468085106, 0.6276595744680851, 0.723404255319149, 0.723404255319149, 0.6914893617021277, 0.723404255319149, 0.6914893617021277]\n",
      "data/590/test/20210314/before/\n",
      "data/780/test/20201109/before/\n",
      "model/CNN_49g_all/0.806_CNN49ag_Phase_BC_Error_Quaternion.pkl [0.7021276595744681, 0.7553191489361702, 0.7659574468085106, 0.6276595744680851, 0.723404255319149, 0.723404255319149, 0.6914893617021277, 0.723404255319149, 0.6914893617021277, 0.776595744680851]\n"
     ]
    },
    {
     "name": "stdout",
     "output_type": "stream",
     "text": [
      "data/590/test/20210314/before/\n",
      "data/780/test/20201109/before/\n",
      "model/CNN_49g_all/0.806_CNN49ag_Phase_BC_BS_Quaternion.pkl [0.7021276595744681, 0.7553191489361702, 0.7659574468085106, 0.6276595744680851, 0.723404255319149, 0.723404255319149, 0.6914893617021277, 0.723404255319149, 0.6914893617021277, 0.776595744680851, 0.7021276595744681]\n",
      "data/590/test/20210314/before/\n",
      "data/780/test/20201109/before/\n",
      "model/CNN_49g_all/0.806_CNN49ag_Phase_BC_BS_Error.pkl [0.7021276595744681, 0.7553191489361702, 0.7659574468085106, 0.6276595744680851, 0.723404255319149, 0.723404255319149, 0.6914893617021277, 0.723404255319149, 0.6914893617021277, 0.776595744680851, 0.7021276595744681, 0.723404255319149]\n"
     ]
    }
   ],
   "source": [
    "header=['ND面硬度(Hv)', 'TD面硬度(Hv)', 'UTS strain(%)', 'UTS stress(MPa)','Total Elongation(%)', 'E(GPa)', 'Ys(Mpa)', 'C2', 'Si1', 'Mn3', 'P1','Cu5', 'Cr', 'Ti4', 'Al7', 'FE%']\n",
    "pic_size=500\n",
    "sam_size=49\n",
    "prop_dic = torch.load(\"data/properties.pkl\")\n",
    "root=\"model/CNN_49g_all/\"\n",
    "ret=[]\n",
    "for ite in range(3):\n",
    "    acc=[]\n",
    "    for i,path in enumerate(sorted(os.listdir(root),reverse=1)):\n",
    "        model_path=root+path\n",
    "        feature=model_path.replace(\".pkl\",\"\").split(\"/\")[-1].split(\"_\")[2:]\n",
    "        model=torch.load(model_path)\n",
    "        test=create_dataset(\"test\",feature=feature,prop_dic=prop_dic,pic_size=pic_size,sam_size=sam_size)\n",
    "        test_loader= DataLoader(test, batch_size=64, shuffle=True,  num_workers=0,  drop_last=False )\n",
    "        model.eval()\n",
    "        cum=0\n",
    "        loss=0\n",
    "        for batch_ndx, sample in enumerate(test_loader):\n",
    "            X,P,Y,_= sample\n",
    "            output=model(X,P)\n",
    "            predict = torch.max(output, 1)[1]\n",
    "            cum+=np.sum((Y == predict).cpu().numpy())\n",
    "        acc.append(cum/len(test))\n",
    "        print(model_path,acc)\n",
    "        if i>10:\n",
    "            break\n",
    "    ret.append(acc)\n",
    "\n"
   ]
  },
  {
   "cell_type": "code",
   "execution_count": 12,
   "metadata": {},
   "outputs": [],
   "source": [
    "torch.save(ret,\"output/testing.pkl\")\n",
    "# torch.load(\"output/testing.pkl\")"
   ]
  },
  {
   "cell_type": "code",
   "execution_count": 6,
   "metadata": {},
   "outputs": [
    {
     "data": {
      "text/plain": [
       "array([0.69148936, 0.73049645, 0.74113475, 0.65248227, 0.73404255,\n",
       "       0.69148936, 0.68794326, 0.74822695, 0.67730496, 0.73404255,\n",
       "       0.67375887, 0.73758865])"
      ]
     },
     "execution_count": 6,
     "metadata": {},
     "output_type": "execute_result"
    }
   ],
   "source": [
    "np.mean(np.array(ret),axis=0)"
   ]
  },
  {
   "cell_type": "code",
   "execution_count": null,
   "metadata": {},
   "outputs": [],
   "source": []
  },
  {
   "cell_type": "code",
   "execution_count": null,
   "metadata": {},
   "outputs": [],
   "source": []
  }
 ],
 "metadata": {
  "kernelspec": {
   "display_name": "Python 3",
   "language": "python",
   "name": "python3"
  },
  "language_info": {
   "codemirror_mode": {
    "name": "ipython",
    "version": 3
   },
   "file_extension": ".py",
   "mimetype": "text/x-python",
   "name": "python",
   "nbconvert_exporter": "python",
   "pygments_lexer": "ipython3",
   "version": "3.7.4"
  }
 },
 "nbformat": 4,
 "nbformat_minor": 2
}
